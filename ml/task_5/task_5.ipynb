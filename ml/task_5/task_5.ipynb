{
 "cells": [
  {
   "cell_type": "markdown",
   "metadata": {
    "id": "KUmvkB8dlw4T"
   },
   "source": [
    "# Машинное обучение, ВМК МГУ\n",
    "\n",
    "## Практическое задание 4. Разложение ошибки на смещение и разброс. Градиентный бустинг ~~своими руками~~\n",
    "\n",
    "### Общая информация\n",
    "\n",
    "Дата выдачи: 2.12.2024\n",
    "\n",
    "Мягкий дедлайн: 23:59MSK 17.12.2024\n",
    "\n",
    "Жесткий дедлайн: 23:59MSK 24.12.2024\n",
    "\n",
    "### Оценивание и штрафы\n",
    "Каждая из задач имеет определенную «стоимость» (указана в скобках около задачи). Максимально допустимая оценка за работу — **10.75 баллов + 4 бонусов**. Проверяющий имеет право снизить оценку за неэффективную реализацию или неопрятные графики.\n",
    "\n",
    "**Обратите внимание**, что в каждом разделе домашнего задания есть оцениваниемые задачи и есть вопросы. Вопросы дополняют задачи и направлены на то, чтобы проинтерпретировать или обосновать происходящее. Код без интерпретации не имеет смысла, поэтому отвечать на вопросы обязательно — за отсутствие ответов мы будем снижать баллы за задачи. Если вы ответите на вопросы, но не напишете корректный код к соответствующим оцениваемым задачам, то баллы за такое выставлены не будут.\n",
    "\n",
    "Сдавать задание после указанного срока сдачи нельзя. При выставлении неполного балла за задание в связи с наличием ошибок на усмотрение проверяющего предусмотрена возможность исправить работу на указанных в ответном письме условиях.\n",
    "\n",
    "Задание выполняется самостоятельно. «Похожие» решения считаются плагиатом и все задействованные студенты (в том числе те, у кого списали) не могут получить за него больше 0 баллов (подробнее о плагиате см. на странице курса). Если вы нашли решение какого-то из заданий (или его часть) в открытом источнике, необходимо указать ссылку на этот источник в отдельном блоке в конце вашей работы (скорее всего вы будете не единственным, кто это нашел, поэтому чтобы исключить подозрение в плагиате, необходима ссылка на источник).\n",
    "\n",
    "Неэффективная реализация кода может негативно отразиться на оценке.\n",
    "\n",
    "<p style=\"color:#de3815;font-size:25px;\">\n",
    "Напоминание об оформлении и выполнении ноутбука\n",
    "</p>\n",
    "\n",
    "* Все строчки должны быть выполнены. Нужно, чтобы output команды можно было увидеть, не запуская ячейки (кроме редких случаев, когда необходимо намеренно скрыть ненужный output, про такие случаи желательно писать пояснения в тексте). **В противном случае -1 балл**\n",
    "* При оформлении ДЗ нужно пользоваться данным файлом в качестве шаблона. **Не нужно** удалять и видоизменять написанный код и текст, если явно не указана такая возможность. Создавать новые ячейки с кодом/текстов там, где это осмысленно и вы считаете необходимым, конечно, можно. **В противном случае -1 балл**\n",
    "* В anytask обязательно нужно прикреплять отдельно файл с расширением ipynb (не в архиве, а именно отдельно). Если необходимо отправить еще какие-то файлы, то вынесите их в отдельный архив (если файлов много) и пришлите. **В противном случае -0.5 балла**\n",
    "---\n",
    "* Пишите, пожалуйста, выводы и ответы на вопросы в текстовых ячейках/при помощи print в коде/как результат вывода ячейки. При их отсутствии мы не можем понять, сделали ли вы задание и понимаете, что происходит, и **поэтому будем снижать баллы**\n",
    "* Если алгоритм не сказано реализовывать явно, его всегда можно импортировать из библиотеки.\n",
    "---\n",
    "* Про графики. _Штрафы будут применяться к каждому результату команды отображения графика (plt.show() и др. аналогичные). Исключением являются графики, генерируемые функциями каких-либо сторонних библиотек, если их нельзя кастомизировать_\n",
    "\n",
    "    * должно быть название (plt.title) графика; **В противном случае &ndash; -0.05 балла**\n",
    "    * на графиках должны быть подписаны оси (plt.xlabel, plt.ylabel); **В противном случае &ndash; -0.025 балла за каждую ось**\n",
    "    * должны быть подписаны единицы измерения (если это возможно); **В противном случае &ndash; -0.025 балла за каждую ось**\n",
    "    * все названия должны быть понятны любому человеку, знакомому с терминологией, без заглядывания в код; **В противном случае &ndash; -0.05 балла**\n",
    "    * подписи тиков на осях не должны сливаться как на одной оси, так и между ними; **В противном случае &ndash; -0.025 балла за каждую ось**\n",
    "    * если изображено несколько сущностей на одном холсте (например несколько функций), то необходима поясняющая легенда (plt.legend); **В противном случае &ndash; -0.05 балла**\n",
    "    * все линии на графиках должны быть чётко видны (нет похожих цветов или цветов, сливающихся с фоном); **В противном случае &ndash; -0.05 балла**\n",
    "    * если отображена величина, имеющая очевидный диапазон значений (например, проценты могут быть от 0 до 100), то желательно масштабировать ось на весь диапазон значений (исключением является случай, когда вам необходимо показать малое отличие, которое незаметно в таких масштабах);\n",
    "    * графики должны быть не супер-микро и не супер-макро по размерам, так, чтобы можно было увидеть все, что нужно.\n",
    "    * при необходимости улучшения наглядности графиков, можно пользоваться логарифмической шкалой по осям x/y.\n",
    "    \n",
    "### А также..\n",
    "\n",
    "* Для удобства поиска вопросов, на которые от вас просят ответа, мы пометили их знаком **(?)**\n",
    "* Знак **(!)** означает, что выполнение замечания необходимо для **возможности получения полного балла**\n",
    "* Даем до +0.5 баллов за выдающиеся успехи по субъективному мнению проверяющих. Этот **бонус** не апеллируется\n",
    "\n",
    "### О задании\n",
    "\n",
    "В этом задании вам предстоит воспользоваться возможностями bootstraping для оценки смещения и разброса алгоритмов машинного обучения. Делать мы это будем на данных boston.\n",
    "Также в задании вам будет предложено пообучать готовые модели градиентного бустинга и CatBoost."
   ]
  },
  {
   "cell_type": "markdown",
   "metadata": {
    "id": "7dT4wNOKlw4V"
   },
   "source": [
    "**Напоминание:**\n",
    "    \n",
    "* Все ваши графики должны быть **\"красивыми\"** --- подробнее о том, как их оформлять, можно найти в первом практическом задании. При несоответствии какиму-то из критериев вам могут снять баллы.\n",
    "* Пишите в текстовых ячейках/print в коде ответы на **все вопросы из заданий/просьбы сделать выводы** --- при их отсутствии мы не можем понять, сделали ли вы задание и понимаете, что происходит, и поэтому будем снижать баллы"
   ]
  },
  {
   "cell_type": "markdown",
   "metadata": {
    "id": "MqOWhoJclw4V"
   },
   "source": [
    "# Часть 1. Bias-Variance Decomposition"
   ]
  },
  {
   "cell_type": "code",
   "execution_count": 6,
   "metadata": {
    "id": "5ShfgREJlw4V"
   },
   "outputs": [],
   "source": [
    "import numpy as np\n",
    "import pandas as pd\n",
    "from matplotlib import pyplot as plt\n",
    "%matplotlib inline"
   ]
  },
  {
   "cell_type": "code",
   "execution_count": 7,
   "metadata": {
    "id": "ZdaCBcv3lw4W"
   },
   "outputs": [
    {
     "data": {
      "text/plain": [
       "array([[6.3200e-03, 1.8000e+01, 2.3100e+00, ..., 1.5300e+01, 3.9690e+02,\n",
       "        4.9800e+00],\n",
       "       [2.7310e-02, 0.0000e+00, 7.0700e+00, ..., 1.7800e+01, 3.9690e+02,\n",
       "        9.1400e+00],\n",
       "       [2.7290e-02, 0.0000e+00, 7.0700e+00, ..., 1.7800e+01, 3.9283e+02,\n",
       "        4.0300e+00],\n",
       "       ...,\n",
       "       [6.0760e-02, 0.0000e+00, 1.1930e+01, ..., 2.1000e+01, 3.9690e+02,\n",
       "        5.6400e+00],\n",
       "       [1.0959e-01, 0.0000e+00, 1.1930e+01, ..., 2.1000e+01, 3.9345e+02,\n",
       "        6.4800e+00],\n",
       "       [4.7410e-02, 0.0000e+00, 1.1930e+01, ..., 2.1000e+01, 3.9690e+02,\n",
       "        7.8800e+00]])"
      ]
     },
     "execution_count": 7,
     "metadata": {},
     "output_type": "execute_result"
    }
   ],
   "source": [
    "data_url = \"http://lib.stat.cmu.edu/datasets/boston\"\n",
    "raw_df = pd.read_csv(data_url, sep=\"\\s+\", skiprows=22, header=None)\n",
    "X = np.hstack([raw_df.values[::2, :], raw_df.values[1::2, :2]])\n",
    "y = raw_df.values[1::2, 2]\n",
    "\n",
    "X"
   ]
  },
  {
   "cell_type": "code",
   "execution_count": 8,
   "metadata": {
    "id": "zoqdwEWflw4W",
    "outputId": "92a1001f-1588-4da8-8976-57731f1db583"
   },
   "outputs": [
    {
     "data": {
      "text/plain": [
       "((506, 13), (506,))"
      ]
     },
     "execution_count": 8,
     "metadata": {},
     "output_type": "execute_result"
    }
   ],
   "source": [
    "X.shape, y.shape"
   ]
  },
  {
   "cell_type": "markdown",
   "metadata": {
    "id": "ZvFIXJLflw4W"
   },
   "source": [
    "### Вычисление bias и variance с помощью бутстрапа\n",
    "На лекции была выведено следующая формула, показывающая, как можно представить ошибку алгоритма регрессии в виде суммы трех компонент:\n",
    "$$\n",
    "L(\\mu) =\n",
    "    \\mathbb{E}_{x, y}\\bigl[\\mathbb{E}_{X}\\bigl[ (y - \\mu(X)(x))^2 \\bigr]\\bigr] =\n",
    "$$\n",
    "$$\n",
    "    \\underbrace{\\mathbb{E}_{x, y}\\bigl[(y - \\mathbb{E}[y|x] )^2\\bigr]}_{\\text{шум}} + \\underbrace{\\mathbb{E}_{x}\\bigl[(\\mathbb{E}_{X}[\\mu(X)(x)] - \\mathbb{E}[y|x] )^2\\bigr]}_{\\text{смещение}} +\n",
    "    \\underbrace{\\mathbb{E}_{x}\\bigl[\\mathbb{E}_{X}\\bigl[(\\mu(X)(x) - \\mathbb{E}_{X}[\\mu(X)(x)] )^2\\bigr]\\bigr]}_{\\text{разброс}},\n",
    "$$\n",
    "* $\\mu(X)$ — алгоритм, обученный по выборке $X = \\{(x_1, y_1), \\dots (x_\\ell, y_\\ell)\\}$;\n",
    "* $\\mu(X)(x)$ — ответ алгоритма, обученного по выборке $X$, на объекте $x$;\n",
    "* $\\mathbb{E}_{X}$ — мат. ожидание по всем возможным выборкам;\n",
    "* $\\mathbb{E}_{X}[\\mu(X)(x)]$ — \"средний\" ответ алгоритма, обученного по всем возможным выборкам $X$, на объекте $x$.\n",
    "    \n",
    "С помощью этой формулы мы можем анализировать свойства алгоритма обучения модели $\\mu$, если зададим вероятностную модель порождения пар $p(x, y)$.\n",
    "\n",
    "В реальных задачах мы, конечно же, не знаем распределение на парах объект - правильный ответ. Однако у нас есть набор семплов из этого распределения (обучающую выборка), и мы можем использовать его, чтобы оценивать математические ожидания. Для оценки мат. ожиданий по выборкам мы будем пользоваться бутстрэпом - методом генерации \"новых\" выборок из одной с помощью выбора объектов с возвращением. Разберем несколько шагов на пути к оценке смещения и разброса.\n",
    "\n",
    "#### Приближенное вычисление интегралов\n",
    "На занятиях мы разбирали примеры аналитического вычисления смещения и разброса нескольких алгоритмов обучения. Для большинства моделей данных и алгоритмов обучения аналитически рассчитать математические ожидания в формулах не удастся. Однако мат. ожидания можно оценивать приближенно. Чтобы оценить математическое ожидание $\\mathbb{E}_{\\bar z} f(\\bar z)$ функции от многомерной случайной величины $\\bar z = (z_1, \\dots, z_d)$, $\\bar z \\sim p(\\bar z)$, можно сгенерировать выборку из распределения $p(\\bar z)$ и усреднить значение функции на элементах этой выборки:\n",
    "$$\\mathbb{E}_{\\bar z} f(z) = \\int f(\\bar z) p(\\bar z) d \\bar z \\approx \\frac 1 m \\sum_{i=1}^m f(\\bar z_i), \\, \\bar z_i \\sim p(\\bar z), i = 1, \\dots, m.$$\n",
    "\n",
    "Например, оценим $\\mathbb{E}_z z^2,$ $z \\sim \\mathcal{N}(\\mu=5, \\sigma=3)$ (из теории вероятностей мы знаем, что\n",
    "$\\mathbb{E}_z z^2 = \\sigma^2 + \\mu^2 = 34$):"
   ]
  },
  {
   "cell_type": "code",
   "execution_count": 9,
   "metadata": {
    "id": "v6A-ki7clw4W",
    "outputId": "b44a7e2e-72df-4e85-a984-71b4609152a1"
   },
   "outputs": [
    {
     "data": {
      "text/plain": [
       "34.796147424181626"
      ]
     },
     "execution_count": 9,
     "metadata": {},
     "output_type": "execute_result"
    }
   ],
   "source": [
    "z = np.random.normal(loc=5, scale=3, size=1000)\n",
    "(z**2).mean()"
   ]
  },
  {
   "cell_type": "markdown",
   "metadata": {
    "id": "m6yV4lIklw4X"
   },
   "source": [
    "#### Оценивание $\\mathbb{E}_{x, y}$\n",
    "Оценить мат. ожидания по $x$ и по $x, y$, встречающиеся во всех трех компонентах разложения, несложно, потому что у нас есть выборка объектов из распределения данных $p(x, y)$:\n",
    "$$ \\mathbb{E}_{x} f(x) \\approx \\frac 1 N \\sum_{i=1}^N f(x_i), \\quad\n",
    "\\mathbb{E}_{x, y} f(x, y) \\approx \\frac 1 N \\sum_{i=1}^N f(x_i, y_i),$$\n",
    "где $N$ - число объектов в выборке, $\\{(x_i, y_i)\\}_{i=1}^N$ - сама выборка.\n",
    "\n",
    "#### Оценивание $\\mathbb{E}_X$ с помощью бутстрапа\n",
    "Чтобы оценить мат. ожидание по $X$, нам понадобится выборка из выборок:\n",
    "$$\\mathbb{E}_X f(X) \\approx \\frac 1 s \\sum_{j=1}^s f(X_j),$$\n",
    "где $X_j$ - $j$-я выборка. Чтобы их получить, мы можем воспользоваться бутстрапом - методом генерации выборок на основе выбора объектов с возвращением. Чтобы составить одну выборку, будем $N$ раз выбирать индекс объекта $i \\sim \\text{Uniform}(1 \\dots N)$ и добавлять $i$-ю пару (объект, целевая переменная) в выборку. В результате в каждой выборке могут появиться повторяющиеся объекты, а какие-то объекты могут вовсе не войти в некоторые выборки.\n",
    "\n",
    "#### Итоговый алгоритм оценки смещения и разброса алгоритма $a$\n",
    "1. Сгенерировать $s$ выборок $X_j$ методом бутстрапа.\n",
    "1. На каждой выборке $X_j$ обучить алгоритм $a_j$.\n",
    "1. Для каждой выборки $X_j$ определить множество объектов $T_j$, не вошедших в нее (out-of-bag). Вычислить предсказания алгоритма $a_j$ на объектах $T_j$.\n",
    "\n",
    "Поскольку у нас есть только один ответ для каждого объекта, мы будем считать шум равным 0, а $\\mathbb{E}[y|x]$ равным имеющемуся правильному ответу для объекта $x$.\n",
    "\n",
    "Итоговые оценки:\n",
    "* Смещение: для одного объекта - квадрат разности среднего предсказания и правильного ответа. Среднее предсказание берется только по тем алгоритмам $a_j$, для которых этот объект входил в out-of-bag выборку $T_j$. Для получения общего смещения выполнить усреденение смещений по объектам.\n",
    "* Разброс: для одного объекта - выборочная дисперсия предсказаний алгоритмов $a_j$, для которых этот объект входил в out-of-bag выборку $T_j$. Для получения общего разброса выполнить усреденение разбросов по объектам.\n",
    "* Ошибка $L$: усреднить квадраты разностей предсказания и правильного ответа по всем выполненным предсказаниям для всех объектов.\n",
    "\n",
    "В результате должно получиться, что ошибка приблизительно равна сумме смещения и разброса!\n",
    "\n",
    "Алгоритм также вкратце описан по [ссылке](https://web.engr.oregonstate.edu/~tgd/classes/534/slides/part9.pdf) (слайды 19-21).\n",
    "\n",
    "__Задание 1. (1.5 баллa)__\n",
    "\n",
    "Реализуйте описанный алгоритм. Обратите внимание, что если объект не вошел ни в одну из out-of-bag выборок, учитывать его в вычислении итоговых величин не нужно. Как обычно, разрешается использовать только один цикл - по выборкам (от 0 до num_runs-1)."
   ]
  },
  {
   "cell_type": "code",
   "execution_count": 22,
   "metadata": {
    "id": "xUQppz8glw4X"
   },
   "outputs": [],
   "source": [
    "def compute_biase_variance(regressor, X, y, num_runs=1000):\n",
    "    \"\"\"\n",
    "    :param regressor: sklearn estimator with fit(...) and predict(...) method\n",
    "    :param X: numpy-array representing training set ob objects, shape [n_obj, n_feat]\n",
    "    :param y: numpy-array representing target for training objects, shape [n_obj]\n",
    "    :param num_runs: int, number of samples (s in the description of the algorithm)\n",
    "\n",
    "    :returns: bias (float), variance (float), error (float)\n",
    "    each value is computed using bootstrap\n",
    "    \"\"\"\n",
    "    ### your code here ╰( ͡° ͜ʖ ͡° )つ──☆*:・ﾟ\n",
    "    n = X.shape[0]\n",
    "    preds = np.zeros((n, num_runs))\n",
    "    all_no_idx = np.zeros((n, num_runs), dtype=bool)\n",
    "    \n",
    "    for i in range(num_runs):\n",
    "        idx = np.random.choice(n, size=n, replace=True)\n",
    "        no_idx = ~np.isin(np.arange(n), idx)\n",
    "        all_no_idx[:, i] = no_idx\n",
    "        \n",
    "        model = regressor\n",
    "        model.fit(X[idx], y[idx])\n",
    "        preds[no_idx, i] = model.predict(X[no_idx])\n",
    "\n",
    "    valid_mask = all_no_idx.sum(axis=1) > 0\n",
    "    mean_preds = np.zeros(n)\n",
    "    mean_preds[valid_mask] = (preds[valid_mask] * all_no_idx[valid_mask]).sum(axis=1) / all_no_idx[valid_mask].sum(axis=1)\n",
    "    \n",
    "    bias = np.mean((mean_preds[valid_mask] - y[valid_mask])**2)\n",
    "    \n",
    "    variance = np.nanmean(\n",
    "        np.nanvar(\n",
    "            np.where(all_no_idx[valid_mask], preds[valid_mask], np.nan),\n",
    "            axis=1,\n",
    "            ddof=1\n",
    "        )\n",
    "    )\n",
    "    \n",
    "    error = np.sum(((preds * all_no_idx)[valid_mask] - y[valid_mask, None])**2 * all_no_idx[valid_mask]) / np.sum(all_no_idx[valid_mask])\n",
    "    \n",
    "    return bias, variance, error"
   ]
  },
  {
   "cell_type": "markdown",
   "metadata": {
    "id": "QVyEYo4mlw4X"
   },
   "source": [
    "**Задание 2. (0.5 баллa)**\n",
    "\n",
    "**(0.3 балла)** Оцените смещение, разброс и ошибку для трех алгоритмов с гиперпараметрами по умолчанию: линейная регрессия, решающее дерево, случайный лес.\n"
   ]
  },
  {
   "cell_type": "code",
   "execution_count": 25,
   "metadata": {
    "id": "CLscO3iblw4X"
   },
   "outputs": [
    {
     "name": "stdout",
     "output_type": "stream",
     "text": [
      "LinearRegression - bias = 23.6826 variance = 0.9266  error = 24.7112\n",
      "DecisionTree - bias = 10.4286 variance = 12.9731  error = 23.4641\n",
      "RandomForest - bias = 10.7514 variance = 2.2793  error = 13.0375\n"
     ]
    }
   ],
   "source": [
    "### your code here ╰( ͡° ͜ʖ ͡° )つ──☆*:\n",
    "from sklearn.linear_model import LinearRegression\n",
    "from sklearn.tree import DecisionTreeRegressor \n",
    "from sklearn.ensemble import RandomForestRegressor\n",
    "\n",
    "models = {\n",
    "   'LinearRegression': LinearRegression(),\n",
    "   'DecisionTree': DecisionTreeRegressor(random_state=42),\n",
    "   'RandomForest': RandomForestRegressor(random_state=42)\n",
    "}\n",
    "\n",
    "for name, model in models.items():\n",
    "   bias, var, err = compute_biase_variance(model, X, y)\n",
    "   print(f'{name} - bias = {bias:.4f} variance = {var:.4f}  error = {err:.4f}')"
   ]
  },
  {
   "cell_type": "markdown",
   "metadata": {
    "id": "HHj6zomhlw4X"
   },
   "source": [
    "**(0.1 балл) (?)** Проанализируйте полученный результат. Согласуются ли полученные результаты с теми, что мы обсуждали на семинарах (с комментарием)?\n",
    "\n",
    "__Your answer here:__\n",
    "1) **LinearRegression** имеет наибольшее смещение (23.6826) и наименьшеий разброс (0.9266), при этом получаем наибольшую ошибку (24.7112). Это можно объяснить тем, что модель довольна простая и не может разобрать сложные зависимости (высокое смещение), при этом модель стабильна (и поэтому маленький разброс)\n",
    "2) **DecisionTree** имеет смещение 10.4286 (более низкий, чем у линейной регрессии) и разброс 12.9731 (более высокий, чем у линейной регрессии). В сумме ошибка примерно такая же (23.4641). Такое поведение можно объяснить тем, что модель слишком адаптируется к тренировочным данным, из-за чего вознкает переобучение\n",
    "3) **RandomForest** имеет смещение 10.7514(примерно такое же, как у DecisionTree) и разброс 12.9731 (более высокий, чем у линейной регрессии, но меньше, чем у DecisionTree). Суммарная ошибка полуается наименьшей 13.0375\n",
    "   \n",
    "**ИТОГО**: LinearRegression наиболее стабильная, но слишком простая модель для задачи; DecisionTree суммарно выдает немного более хороший результат; RandomForest показывает самую маленькую ошибку. Результаты согласуются с тем, что было на семинарах\n",
    "\n",
    "**(0.1 балл) (?)** Вспомните во сколько раз в теории бутстрап уменьшает разброс базового алгоритма. Выполняется ли это в ваших экспериментах? Если нет, поясните, почему.\n",
    "\n",
    "__Your answer here:__\n",
    "в теории бутстрап уменьшает разброс базового алгоритма в $\\sqrt {N}$ раз, где N - число моделей. У нас используется 100 моделей, так как по умолчанию их ровно столько - то есть, разброс должен стать в 10 раз меньше (то есть в нашем случае при разбросе 12.9 ожидаем разброс 1.3). В эксперименте получили следующие значения: для DecisionTree разброс 12.9731, для RandomForest - 2.2793, что меньше примерно в 5.7 раз. Полученные значения не полностью совпадают с теоретическим из-за наиличия случайности при отборе признаков, наличия зависимости между предсказаиями деревьев (и в целом взимосвязь деревьев) "
   ]
  },
  {
   "cell_type": "markdown",
   "metadata": {
    "id": "xKaufTDMlw4X"
   },
   "source": [
    "### Визуализация предсказаний базовых алгоритмов бэггинга\n",
    "\n",
    "В материалах лекций можно найти изображение, похожее на мишень - визуализация алгоритмов с разным смещением и разным разбросом. В центре \"мишени\" - правильный ответ, а \"попадания\" - предсказания алгоритмов, обученных по разным выборкам. Построим похожее изображение на наших данных для трех алгоритмов. Наши \"мишени\" будут одномерными, потому что мы решаем задачу одномерной регрессии.\n",
    "\n",
    "__Задание 3. (1.25 балла)__\n",
    "\n",
    "**(0.5 балла)** Реализуйте фукнцию plot_predictions. Она должна выполнять следующие действия:\n",
    "1. Случайно выбрать num_test_objects пар объект-целевая переменная из выборки X, y. Получится две выборки: маленькая X_test, y_test (выбранные тестовые объекты) и X_train, y_train (остальные объекты).\n",
    "1. Сгенерировать num_runs выборок методом бутстарапа из X_train, y_train. На каждой выборке обучить алгоритм regressor и сделать предсказания для X_test.\n",
    "1. Нарисовать scatter-график. По оси абсцисс - объекты тестовой выборки (номера от 0 до num_test_objects-1), по оси ординат - предсказания для каждого из num_runs выборок. В итоге получится num_test_objects столбиков с точками. Для каждого тестового объекта надо отметить одним цветом (в рамках каждого номера объекта, т.е. предсказания для объектов с одинаковым номером -- одинаковым цветом, а с разными -- разными цветами) все предсказания для него, а также черным цветом отметить правильный ответ.\n",
    "1. Подпишите оси и название графика (аргумент title)."
   ]
  },
  {
   "cell_type": "code",
   "execution_count": 48,
   "metadata": {
    "id": "8svCOMKYlw4X"
   },
   "outputs": [],
   "source": [
    "def plot_predictions(regressor, X, y, num_runs=100, num_test_objects=10, title=\"\"):\n",
    "    \"\"\"\n",
    "    plot graphics described above\n",
    "    \"\"\"\n",
    "    ### your code here ╰( ͡° ͜ʖ ͡° )つ──☆*:・ﾟ\n",
    "    n = len(X)\n",
    "    test_indices = np.random.choice(n, size=num_test_objects, replace=False)\n",
    "    train_indices = np.setdiff1d(np.arange(n), test_indices)\n",
    "    \n",
    "    X_test = X[test_indices]\n",
    "    y_test = y[test_indices]\n",
    "    X_train = X[train_indices] \n",
    "    y_train = y[train_indices]\n",
    "    \n",
    "    predictions = np.zeros((num_test_objects, num_runs))\n",
    "    \n",
    "    for i in range(num_runs):\n",
    "       bootstrap_indices = np.random.choice(len(X_train), \n",
    "                                         size=len(X_train), \n",
    "                                         replace=True)\n",
    "       model = regressor\n",
    "       model.fit(X_train[bootstrap_indices], y_train[bootstrap_indices])\n",
    "       predictions[:, i] = model.predict(X_test)\n",
    "    \n",
    "    colors = plt.cm.rainbow(np.linspace(0, 1, num_test_objects))\n",
    "    for idx in range(num_test_objects):\n",
    "       plt.scatter([idx] * num_runs, predictions[idx], \n",
    "                 color=colors[idx], alpha=0.3, s=30)\n",
    "       plt.scatter(idx, y_test[idx], color='black', \n",
    "                 marker='*', s=200)\n",
    "    \n",
    "    plt.title(title)\n",
    "    plt.xlabel('Номер тестового объекта')\n",
    "    plt.ylabel('Значение целевой переменной')"
   ]
  },
  {
   "cell_type": "markdown",
   "metadata": {
    "id": "6WGqxlK3lw4X"
   },
   "source": [
    "**(0.25 баллa)** Нарисуйте графики для линейной регрессии, решающего дерева и случайного леса. Нарисуйте три графика в строчку (это можно сделать с помощью plt.subplot) с одинаковой осью ординат (это важно для понимания масштаба разброса у разных алгоритмов):"
   ]
  },
  {
   "cell_type": "code",
   "execution_count": 50,
   "metadata": {
    "id": "BSDER7-_lw4X"
   },
   "outputs": [
    {
     "data": {
      "image/png": "[encoded data removed]",
      "text/plain": [
       "<Figure size 1500x500 with 3 Axes>"
      ]
     },
     "metadata": {},
     "output_type": "display_data"
    }
   ],
   "source": [
    "plt.figure(figsize=(15, 5))\n",
    "\n",
    "for i, (name, model) in enumerate(models.items()):\n",
    "   plt.subplot(1, 3, i+1)\n",
    "   plot_predictions(model, X, y, title=name)\n",
    "\n",
    "plt.tight_layout()\n",
    "plt.show()"
   ]
  },
  {
   "cell_type": "markdown",
   "metadata": {
    "id": "rveQl6Rclw4Y"
   },
   "source": [
    "**(0.5 балла) (?)** Для каждого графика прокомментируйте, как он характеризует смещение и разброс соответствующего алгоритма.\n",
    "\n",
    "**Your answer here:**\n",
    "1) **Linear Regression**.Смещение высокое: предсказания систематически отклоняются от истинных значений (черные звездочки). Разброс низкий: точки предсказаний для каждого объекта сгруппированы очень плотно, образуя узкие столбики - модель простая, но стабильная\n",
    "\n",
    "2) **Decision Tree**.\n",
    "Смещение низкое: средние предсказания ближе к истинным значениям, чем у линейной регрессии. Разброс очень высокий: точки предсказаний сильно рассеяны, образуя широкие столбики - модель сильно завичит от конкретной обучающей выборки\n",
    "\n",
    "3) **Random Forest**. Смещение среднее: сохраняется на уровне, близком к отдельному дереву. Разброс значительно меньше, чем у отдельного дерева: столбики предсказаний уже - достигается оптимальный баланс между разбросов и смещением\n"
   ]
  },
  {
   "cell_type": "markdown",
   "metadata": {
    "id": "pAMbOmtAlw4Y"
   },
   "source": [
    "# Часть 2. Градиентный бустинг"
   ]
  },
  {
   "cell_type": "markdown",
   "metadata": {
    "id": "gXi4DCs9lw4Y"
   },
   "source": [
    "**Задание 4 (1 балл)**\n",
    "\n",
    "Мы будем использовать данные из [соревнования](https://www.kaggle.com/t/b710e05dc0bd424995ca94da5b639869) (вам нужны только данные, посылать туда ничего не надо).\n",
    "* Загрузите таблицу application_train.csv;\n",
    "* Запишите в Y столбец с целевой переменной (TARGET);\n",
    "* Определите дисбаланс классов\n",
    "* Определите тип столбцов и заполните пропуски - стратегия произвольная;\n",
    "* Разбейте выборку в соотношении 70:30 с random_state=0. Если считаете нужным, сделайте сбалансированное по классам разбиение.\n",
    "* Допишите функцию score_model для обучения и оценки качества модели\n",
    "\n",
    "Так как в данных имеется значительный дисбаланс классов, в качестве метрики качества везде будем использовать площадь под precision-recall кривой (AUC-PR)."
   ]
  },
  {
   "cell_type": "code",
   "execution_count": 90,
   "metadata": {},
   "outputs": [
    {
     "data": {
      "text/plain": [
       "(215257, 122)"
      ]
     },
     "execution_count": 90,
     "metadata": {},
     "output_type": "execute_result"
    }
   ],
   "source": [
    "df = pd.read_csv('application_train.csv')\n",
    "Y = df['TARGET']\n",
    "X = df.drop(['TARGET', 'SK_ID_CURR'], axis=1)\n",
    "df.shape"
   ]
  },
  {
   "cell_type": "code",
   "execution_count": 91,
   "metadata": {},
   "outputs": [
    {
     "name": "stdout",
     "output_type": "stream",
     "text": [
      "Дисбаланс классов\n",
      "Класс 0 - 91.91% от всей выборки\n",
      "Класс 1 - 8.09% от всей выборки\n"
     ]
    }
   ],
   "source": [
    "temp = Y.value_counts()\n",
    "kol = temp[0] + temp[1]\n",
    "print('Дисбаланс классов')\n",
    "print(f'Класс 0 - {temp[0]/kol * 100:.2f}% от всей выборки')\n",
    "print(f'Класс 1 - {temp[1]/kol * 100:.2f}% от всей выборки')"
   ]
  },
  {
   "cell_type": "markdown",
   "metadata": {},
   "source": [
    "**ДИСБАЛАНС**: в выборке сильно больше объектов, принадлежащих классу 0 - сильный дисбаланс"
   ]
  },
  {
   "cell_type": "code",
   "execution_count": 98,
   "metadata": {},
   "outputs": [
    {
     "data": {
      "text/plain": [
       "float64    65\n",
       "int64      41\n",
       "object     16\n",
       "Name: count, dtype: int64"
      ]
     },
     "execution_count": 98,
     "metadata": {},
     "output_type": "execute_result"
    }
   ],
   "source": [
    "df.dtypes.value_counts()"
   ]
  },
  {
   "cell_type": "markdown",
   "metadata": {},
   "source": [
    "**ТИПЫ** данных в таблицу: int, float, object"
   ]
  },
  {
   "cell_type": "markdown",
   "metadata": {},
   "source": [
    "Для числовых признаков (int, float) пропуски заполним медианой столбца. Для категориальных признаков - модой столбца"
   ]
  },
  {
   "cell_type": "code",
   "execution_count": 127,
   "metadata": {},
   "outputs": [],
   "source": [
    "numeric_features = X.select_dtypes(include=['int64', 'float64']).columns\n",
    "categorical_features = X.select_dtypes(include=['object']).columns\n",
    "\n",
    "temp = [col for col in numeric_features if X[col].nunique() == 2]\n",
    "numeric_features = [col for col in numeric_features if col not in temp]\n",
    "categorical_features = list(categorical_features) + temp\n",
    "\n",
    "for col in numeric_features:\n",
    "    X[col] = X[col].fillna(X[col].median())\n",
    "    \n",
    "for col in categorical_features:\n",
    "    X[col] = X[col].fillna(X[col].mode()[0])"
   ]
  },
  {
   "cell_type": "code",
   "execution_count": 128,
   "metadata": {},
   "outputs": [],
   "source": [
    "from sklearn.model_selection import train_test_split\n",
    "X_train, X_test, y_train, y_test = train_test_split(X, Y, test_size=0.3, random_state=0, stratify=Y)"
   ]
  },
  {
   "cell_type": "code",
   "execution_count": 129,
   "metadata": {
    "id": "Ei05hv9xlw4Y"
   },
   "outputs": [],
   "source": [
    "import time\n",
    "from sklearn.metrics import average_precision_score\n",
    "\n",
    "def score_model(model, X_train, X_test, y_train, y_test, print_res: bool = True, **fit_kwargs):\n",
    "    \"\"\"\n",
    "    :param model: обучаемая модель\n",
    "    :param print_res: Если True, то результат выполнения выводится в консоль\n",
    "\n",
    "    :return: Если print_res == False, то функция возвращает словарь с ключами 'pr-auc' и 'fit-time'\n",
    "    \"\"\"\n",
    "\n",
    "    ### your code here ╰( ͡° ͜ʖ ͡° )つ──☆*:・ﾟ\n",
    "    start_time = time.time()\n",
    "    model.fit(X_train, y_train, **fit_kwargs)\n",
    "    fit_time = time.time() - start_time\n",
    "    \n",
    "    pr_auc = average_precision_score(y_test, model.predict_proba(X_test)[:, 1])\n",
    "    if print_res:\n",
    "        print(f\"pr-auc = {pr_auc:.4f}\\tfit time = {fit_time:.4f} s\")\n",
    "    else:\n",
    "        return {'pr-auc': pr_auc, 'fit-time': fit_time}"
   ]
  },
  {
   "cell_type": "code",
   "execution_count": null,
   "metadata": {
    "id": "e2Soyntflw4Y"
   },
   "outputs": [],
   "source": [
    "### your code here ╰( ͡° ͜ʖ ͡° )つ──☆*:・ﾟ"
   ]
  },
  {
   "cell_type": "markdown",
   "metadata": {
    "id": "i9Kyoj_4lw4Y"
   },
   "source": [
    "**Задание 5 (1 балл)**"
   ]
  },
  {
   "cell_type": "markdown",
   "metadata": {
    "id": "8s5sCvmqlw4Y"
   },
   "source": [
    "**(0.7 баллa)** Обучите реализации градиентного бустинга LightGBM и Catboost на вещественных признаках без подбора параметров.\n",
    "\n",
    "**(0.3 баллa) (?) Получилась ли заметная разнциа в качестве? Как вы думаете, почему?**\n",
    "\n",
    "**Замечание:**\n",
    "* В этом и последующих экспериментах необходимо измерять время обучения моделей."
   ]
  },
  {
   "cell_type": "code",
   "execution_count": 131,
   "metadata": {
    "id": "1VyM0AY4lw4Y"
   },
   "outputs": [
    {
     "name": "stdout",
     "output_type": "stream",
     "text": [
      "LightGBM:\n",
      "pr-auc = 0.2283\tfit time = 1.2611 s\n",
      "\n",
      "CatBoost:\n",
      "pr-auc = 0.2311\tfit time = 13.8772 s\n"
     ]
    }
   ],
   "source": [
    "### your code here ╰( ͡° ͜ʖ ͡° )つ──☆*:・ﾟ\n",
    "import lightgbm as lgb\n",
    "from catboost import CatBoostClassifier\n",
    "\n",
    "model = lgb.LGBMClassifier(random_state=0, verbose=-1)\n",
    "print(\"LightGBM:\")\n",
    "score_model(model, X_train[numeric_features], X_test[numeric_features], y_train, y_test)\n",
    "\n",
    "\n",
    "model = CatBoostClassifier(random_state=0, verbose=False)\n",
    "print(\"\\nCatBoost:\")\n",
    "score_model(model, X_train[numeric_features], X_test[numeric_features], y_train, y_test)"
   ]
  },
  {
   "cell_type": "markdown",
   "metadata": {
    "id": "VGkY6b_klw4Y"
   },
   "source": [
    "**Your answer here:** качество у моделей почти одинаковое (отличаются лишь незначительно). Это происходит потому, что мы эти модели используют один и тот же алгоритм - градиентный бустинг. Так же мы используем параметры по умолчанию, что может объяснить почему качество схоже. Но по времени LightGBM работает значительно быстрее, это связано с тем, что используются разные алгоритмы построения деревьев, разный алгоритмы параллельного вычисления и разные способы работы с памятью"
   ]
  },
  {
   "cell_type": "markdown",
   "metadata": {
    "id": "1IW0JEo1lw4Y"
   },
   "source": [
    "__Задание 6. (1 балл)__\n",
    "\n",
    "**(0.5 баллa)** Подберите оптимальные с точки зрения метрики качества параметры алгоритмов, изменяя:\n",
    "\n",
    "* глубину деревьев;\n",
    "* количество деревьев;\n",
    "* темп обучения;\n",
    "\n",
    "Масштаб значений предлагается посмотреть [тут](https://github.com/esokolov/ml-course-hse/blob/master/2019-fall/seminars/sem10-gbm.ipynb).\n",
    "\n",
    "**(0.5 баллa) (?)** Проанализируйте соотношения получившихся оптимальных глубины и количества деревьев в зависимости от алгоритма.**\n",
    "\n",
    "**Если на перебор гиперпараметров уходит много времени, то переберите значениях каких-нибудь 1-2 гиперпараметров, а не всех предложенных 3**"
   ]
  },
  {
   "cell_type": "code",
   "execution_count": 140,
   "metadata": {
    "id": "T2Cjn_0olw4Y"
   },
   "outputs": [
    {
     "name": "stdout",
     "output_type": "stream",
     "text": [
      "LightGBM\n",
      "New best: score=0.1937 time=0.6006 depth=3 trees=100 lr=0.01\n",
      "New best: score=0.2255 time=0.5796 depth=3 trees=100 lr=0.1\n",
      "New best: score=0.2309 time=1.2310 depth=3 trees=300 lr=0.1\n",
      "New best: score=0.2317 time=1.8532 depth=3 trees=500 lr=0.1\n"
     ]
    }
   ],
   "source": [
    "### your code here ╰( ͡° ͜ʖ ͡° )つ──☆*:・ﾟ\n",
    "print('LightGBM')\n",
    "param = {\n",
    "    'max_depth': [3, 5, 7],\n",
    "    'n_estimators': [100, 300, 500, 700],\n",
    "    'learning_rate': [0.01, 0.1]\n",
    "}\n",
    "\n",
    "best_lgb = None\n",
    "best_score_lgb = 0\n",
    "for depth in param['max_depth']:\n",
    "    for n_est in param['n_estimators']:\n",
    "        for lr in param['learning_rate']:\n",
    "            model = lgb.LGBMClassifier(\n",
    "                max_depth=depth,\n",
    "                n_estimators=n_est,\n",
    "                learning_rate=lr,\n",
    "                random_state=0\n",
    "            )\n",
    "            result = score_model(model, X_train[numeric_features], X_test[numeric_features], \n",
    "                               y_train, y_test, print_res=False)\n",
    "            \n",
    "            if result['pr-auc'] > best_score_lgb:\n",
    "                best_score_lgb = result['pr-auc']\n",
    "                best_lgb = model \n",
    "                print(f\"New best: score={best_score_lgb:.4f} time={result['fit-time']:.4f} depth={depth} trees={n_est} lr={lr}\")"
   ]
  },
  {
   "cell_type": "code",
   "execution_count": 141,
   "metadata": {},
   "outputs": [
    {
     "name": "stdout",
     "output_type": "stream",
     "text": [
      "CatBoost\n",
      "New best: score=0.1933 time=1.1216 depth=3 trees=100 lr=0.01\n",
      "New best: score=0.2224 time=1.1441 depth=3 trees=100 lr=0.1\n",
      "New best: score=0.2321 time=3.1570 depth=3 trees=300 lr=0.1\n",
      "New best: score=0.2337 time=5.2147 depth=3 trees=500 lr=0.1\n",
      "New best: score=0.2341 time=7.2154 depth=3 trees=700 lr=0.1\n"
     ]
    }
   ],
   "source": [
    "print('CatBoost')\n",
    "param = {\n",
    "    'depth': [3, 5, 7],\n",
    "    'iterations': [100, 300, 500, 700],\n",
    "    'learning_rate': [0.01, 0.1]\n",
    "}\n",
    "\n",
    "best_cat = None\n",
    "best_score_cat = 0\n",
    "\n",
    "for depth in param['depth']:\n",
    "    for n_est in param['iterations']:\n",
    "        for lr in param['learning_rate']:\n",
    "            model = CatBoostClassifier(\n",
    "                depth=depth,\n",
    "                iterations=n_est,\n",
    "                learning_rate=lr,\n",
    "                random_state=0,\n",
    "                verbose=False\n",
    "            )\n",
    "            result = score_model(model, X_train[numeric_features], X_test[numeric_features], \n",
    "                               y_train, y_test, print_res=False)\n",
    "            \n",
    "            if result['pr-auc'] > best_score_cat:\n",
    "                best_score_cat = result['pr-auc']\n",
    "                best_cat = model\n",
    "                print(f\"New best: score={best_score_cat:.4f} time={result['fit-time']:.4f} depth={depth} trees={n_est} lr={lr}\")"
   ]
  },
  {
   "cell_type": "markdown",
   "metadata": {
    "id": "4yIfD3VXlw4Z"
   },
   "source": [
    "**Your answer here:**\n",
    "\n",
    "Оптимальные параметры для **LightGBM**: depth=3 trees=500 lr=0.1 -- pr-auc=0.2317. Достигает максимума при 500 деревьях,дальнейшее увеличение деревьев не приводит к улучшению. Более быстрое обучение: 1.85 сек для 500 деревьев\n",
    "\n",
    "Оптимальные параметры для **CatBoost**: depth=3 trees=700 lr=0.1 -- pr-auc=0.2341. Продолжает улучшаться до 700 деревьев, более медленное обучение: 7.21 сек для 700 деревьев.\n",
    "\n",
    "При этом для обоих алгоритмов оптимальная глубина = 3, это может происхрдить потому, что задача не требует сложных деревьев для хорошего качества (и при этом более глубокие деревья могли бы привести к переобучению)\n",
    "\n",
    "**ИТОГО**: небольшая глубина деревьев оптимальна для обоих алгоритмов, CatBoost требует больше деревьев для достижения оптимума; также высокий темп обучения 0.1 лучше низкого 0.01"
   ]
  },
  {
   "cell_type": "markdown",
   "metadata": {
    "id": "ovYNkgfclw4Z"
   },
   "source": [
    "**Задание 7 (1 баллa)**\n",
    "\n",
    "**(0.5 баллов)** Добавьте категориальные признаки к вещественным следующими способами:\n",
    "\n",
    "* как OHE признаки;\n",
    "* как счетчики со сглаживанием.\n",
    "\n",
    "Можно использовать библиотечные реализации; при подсчете счетчиков нельзя использовать циклы.\n",
    "\n",
    "**Замечание**: среди признаков с типом object есть несколько бинарных, все остальные --- категориальные\n",
    "\n",
    "**(0.5 баллa) (?)** Как меняется время, необходимое для обучения моделей в зависимости от способа кодирования? (Параметры можно не подбирать)."
   ]
  },
  {
   "cell_type": "code",
   "execution_count": 150,
   "metadata": {},
   "outputs": [],
   "source": [
    "from sklearn.preprocessing import OneHotEncoder, StandardScaler\n",
    "from category_encoders import CatBoostEncoder\n",
    "from sklearn.compose import ColumnTransformer\n",
    "\n",
    "binary_features = [col for col in categorical_features if X[col].nunique() == 2]\n",
    "cat_features = [col for col in categorical_features if col not in binary_features]\n",
    "\n",
    "ct_ohe = ColumnTransformer([\n",
    "    ('num', StandardScaler(), numeric_features),\n",
    "    ('ohe', OneHotEncoder(handle_unknown='ignore'), cat_features),\n",
    "    ('bin', OneHotEncoder(handle_unknown='ignore'), binary_features)\n",
    "], verbose_feature_names_out=False)\n",
    "\n",
    "ct_count = ColumnTransformer([\n",
    "    ('num', StandardScaler(), numeric_features),\n",
    "    ('count', CatBoostEncoder(random_state=0), cat_features),\n",
    "    ('bin', OneHotEncoder(handle_unknown='ignore'), binary_features)\n",
    "], verbose_feature_names_out=False)\n",
    "\n",
    "X_train_ohe = ct_ohe.fit_transform(X_train)\n",
    "X_test_ohe = ct_ohe.transform(X_test)\n",
    "\n",
    "X_train_count = ct_count.fit_transform(X_train, y_train)\n",
    "X_test_count = ct_count.transform(X_test)"
   ]
  },
  {
   "cell_type": "code",
   "execution_count": 153,
   "metadata": {},
   "outputs": [
    {
     "name": "stdout",
     "output_type": "stream",
     "text": [
      "OHE:\n",
      "LightGBM: pr-auc = 0.2355, time = 2.08s\n",
      "CatBoost: pr-auc = 0.2382 time = 13.08\n",
      "\n",
      "Count:\n",
      "LightGBM: pr-auc = 0.2373 time = 2.09s\n",
      "CatBoost: pr-auc = 0.2387 time = 10.67s\n"
     ]
    }
   ],
   "source": [
    "print(\"OHE:\")\n",
    "model = lgb.LGBMClassifier(max_depth=3,\n",
    "                        n_estimators=500,\n",
    "                        learning_rate=0.1,\n",
    "                        random_state=0,\n",
    "                        verbose=-1)\n",
    "results_lgb_ohe = score_model(model, X_train_ohe, X_test_ohe, y_train, y_test, print_res=False)\n",
    "print(f\"LightGBM: pr-auc = {results_lgb_ohe['pr-auc']:.4f}, time = {results_lgb_ohe['fit-time']:.2f}s\")\n",
    "\n",
    "model = CatBoostClassifier(depth=3,\n",
    "                        iterations=700,\n",
    "                        learning_rate=0.1,\n",
    "                        random_state=0, verbose=False)\n",
    "results_ohe = score_model(model, X_train_ohe, X_test_ohe, y_train, y_test, print_res=False)\n",
    "print(f\"CatBoost: pr-auc = {results_ohe['pr-auc']:.4f} time = {results_ohe['fit-time']:.2f}\")\n",
    "\n",
    "print(\"\\nCount:\")\n",
    "model = lgb.LGBMClassifier(max_depth=3,\n",
    "                        n_estimators=500,\n",
    "                        learning_rate=0.1,\n",
    "                        random_state=0,\n",
    "                        verbose=-1)\n",
    "results_lgb_count = score_model(model, X_train_count, X_test_count, y_train, y_test, print_res=False)\n",
    "print(f\"LightGBM: pr-auc = {results_lgb_count['pr-auc']:.4f} time = {results_lgb_count['fit-time']:.2f}s\")\n",
    "\n",
    "model = CatBoostClassifier(depth=3,\n",
    "                        iterations=700,\n",
    "                        learning_rate=0.1,\n",
    "                        random_state=0, verbose=False)\n",
    "results_count = score_model(model, X_train_count, X_test_count, y_train, y_test, print_res=False)\n",
    "print(f\"CatBoost: pr-auc = {results_count['pr-auc']:.4f} time = {results_count['fit-time']:.2f}s\")"
   ]
  },
  {
   "cell_type": "markdown",
   "metadata": {
    "id": "yZOD5Atjlw4Z"
   },
   "source": [
    "**Your answer here:**\n",
    "Время выполнения:\n",
    "1) **LightGBM**:\n",
    "   * Без категориальных: 1.85\n",
    "   * С OHE: 2.08\n",
    "   * С счетчиками: 2.09\n",
    "  \n",
    "2) **CatBoost**:\n",
    "    * Без категориальных: 7.21\n",
    "   * С OHE: 13.08\n",
    "   * С счетчиками: 10.67\n",
    "  \n",
    "Для LightGBM  время обучения увеличилось незначительно для обоих способов кодирования. Практически нет разницы во времени между OHE и счетчиками. При этом качество улучшилось: с 0.2317 до 0.2355 (OHE) и 0.2373 (счетчики)\n",
    "\n",
    "Для CatBoost существенное увеличение времени обучения при добавлении категориальных признаков. Счетчики работают быстрее OHE примерно на 3.5 секунд. При этом качество улучшилось: с 0.2341 до 0.2382 (OHE) и 0.2387 (счетчики)"
   ]
  },
  {
   "cell_type": "markdown",
   "metadata": {
    "id": "ypBCE6fTlw4Z"
   },
   "source": [
    "**Задание 8 (1 балл)**\n",
    "\n",
    "**(0.7 баллa)** Для CatBoost можно не делать ручную обработку категориальных признаков, а подавать как есть. Обучите модель CatBoost, не обрабатывая специально категориальные признаки, замерьте время обучения (параметры возьмите из предыдущего пункта).  \n",
    "\n",
    "**(0.3 баллa) (?)**Сравните с временем обучения модели CatBoost из предыдущего пункта. Как изменилось время? Почему?"
   ]
  },
  {
   "cell_type": "code",
   "execution_count": 156,
   "metadata": {
    "id": "RMVCge2Ilw4Z"
   },
   "outputs": [
    {
     "name": "stdout",
     "output_type": "stream",
     "text": [
      "pr-auc = 0.2392\tfit time = 25.7064 s\n"
     ]
    }
   ],
   "source": [
    "### your code here ╰( ͡° ͜ʖ ͡° )つ──☆*:・ﾟ\n",
    "all_categorical= [i for i, col in enumerate(X.columns) if col in (cat_features + binary_features)]\n",
    "model = CatBoostClassifier(\n",
    "                        depth=3,\n",
    "                        iterations=700,\n",
    "                        learning_rate=0.1,\n",
    "                        random_state=0, verbose=False,\n",
    "                        cat_features=all_categorical\n",
    ")\n",
    "\n",
    "score_model(model, X_train, X_test, y_train, y_test, print_res=True)"
   ]
  },
  {
   "cell_type": "markdown",
   "metadata": {
    "id": "9pQcq392lw4Z"
   },
   "source": [
    "**Your answer here:**\n",
    "Время работы:\n",
    "* OHE: 13.08 секунд\n",
    "* Cчетчики: 10.67 секунд\n",
    "* Необработанные признаки: 25.71 секунд\n",
    "\n",
    "По сравнению с OHE время увеличилось почти в 2 раза. По сравнению со счетчиками - почти в 2.5 раза. Это происходит потому, что для каждой категории считается среднее значение целевой переменной для объектов с данной категорией, динамически конвертирует категориальные значения в числовые, использует специальный метод кодиррвания - этим и вызвано то, что время больше. При этом качество модели немного улучшилось"
   ]
  },
  {
   "cell_type": "markdown",
   "metadata": {
    "id": "3yrnhO0Nlw4Z"
   },
   "source": [
    "**Бонус. (1 балл)**\n",
    "\n",
    "**(0.7 баллa)**Подберите оптимальные параметры для LightGBM с вещественными и категориальными признаками (предварительно обработанные каким-нибудь способом). Подберите оптимальные параметры для CatBoost с вещественными и необработанными категориальными признаками.\n",
    "\n",
    "**(0.3 баллa) (?)**Сравните качество моделей на наилучших параметрах. Какой метод получился лучше с точки зрения качества? Совпадает ли результат с вашими ожиданиями?"
   ]
  },
  {
   "cell_type": "code",
   "execution_count": null,
   "metadata": {
    "id": "hTlg7LiClw4Z"
   },
   "outputs": [],
   "source": [
    "### your code here ╰( ͡° ͜ʖ ͡° )つ──☆*:・ﾟ"
   ]
  },
  {
   "cell_type": "markdown",
   "metadata": {
    "id": "OR1YKlSplw4Z"
   },
   "source": [
    "# Часть 3. Отбор признаков"
   ]
  },
  {
   "cell_type": "markdown",
   "metadata": {
    "id": "mO__Lxhklw4Z"
   },
   "source": [
    "В данном разделе вам предстоит познакомиться с методами отбора признаков. Вы узнаете как определяется важность признаков для различных классов моделей. Проверите, совпадают ли наиболее важные признаки при различных стратегиях отбора.\n",
    "\n",
    "В данном разделе, помимо градиентных бустингов, будут рассматриваться и линейные модели. В качестве представителя класса градиентных бустингов возьмем Catboost. В качестве представителя класса линейных моделей возьмем LogReg\n",
    "\n",
    "Обучите базовые модели (catboost и logreg). При обучении logreg используйте гиперпараметры: $C=10^2, \\text{max_iter}=1\\,000$.\n",
    "\n",
    "**Важно**: установите random seed = 73 для всех методов!\n",
    "\n",
    "**Важно**: не забудте про StandardScaler при обучении линейной модели"
   ]
  },
  {
   "cell_type": "code",
   "execution_count": 160,
   "metadata": {
    "id": "CfQD284xlw4d"
   },
   "outputs": [],
   "source": [
    "from sklearn import linear_model\n",
    "from sklearn.preprocessing import StandardScaler\n",
    "from sklearn.preprocessing import OrdinalEncoder\n",
    "\n",
    "import seaborn as sns"
   ]
  },
  {
   "cell_type": "code",
   "execution_count": 161,
   "metadata": {
    "id": "gnCwEUxflw4d"
   },
   "outputs": [],
   "source": [
    "def print_results(fit_results: dict, model_name: str, base_score: float = None):\n",
    "    pr_aur = fit_results['pr-auc']\n",
    "    fit_time = fit_results['fit-time']\n",
    "\n",
    "    if base_score is not None:\n",
    "        print(f\"{model_name:12}:\\t\\tpr-auc: {pr_aur:.4f}\\tdeviation: {pr_aur - base_score:.4f}\\tfit_time: {fit_time:.3} s\")\n",
    "    else:\n",
    "        print(f\"{model_name:12}:\\t\\tpr-auc: {pr_aur:.4f}\\tfit_time: {fit_time:.3} s\")\n",
    "\n",
    "    return fit_results"
   ]
  },
  {
   "cell_type": "code",
   "execution_count": 173,
   "metadata": {},
   "outputs": [],
   "source": [
    "object_features = X.select_dtypes(include=['object']).columns\n",
    "object_features = X.select_dtypes(include=['object']).columns\n",
    "binary_num = [col for col in numeric_features if X[col].nunique() == 2]\n",
    "binary_obj = [col for col in object_features if X[col].nunique() == 2]\n",
    "binary_features = binary_num + binary_obj\n",
    "numeric_features = [col for col in numeric_features if col not in binary_num]\n",
    "cat_features = [col for col in object_features if col not in binary_obj]"
   ]
  },
  {
   "cell_type": "code",
   "execution_count": 174,
   "metadata": {
    "id": "hT6Oat1mlw4d",
    "outputId": "33cdeac5-d1d9-4c75-9fdc-6c77ef3a9ebf"
   },
   "outputs": [
    {
     "data": {
      "text/html": [
       "<div>\n",
       "<style scoped>\n",
       "    .dataframe tbody tr th:only-of-type {\n",
       "        vertical-align: middle;\n",
       "    }\n",
       "\n",
       "    .dataframe tbody tr th {\n",
       "        vertical-align: top;\n",
       "    }\n",
       "\n",
       "    .dataframe thead th {\n",
       "        text-align: right;\n",
       "    }\n",
       "</style>\n",
       "<table border=\"1\" class=\"dataframe\">\n",
       "  <thead>\n",
       "    <tr style=\"text-align: right;\">\n",
       "      <th></th>\n",
       "      <th>CODE_GENDER_F</th>\n",
       "      <th>CODE_GENDER_M</th>\n",
       "      <th>CODE_GENDER_XNA</th>\n",
       "      <th>NAME_TYPE_SUITE_Children</th>\n",
       "      <th>NAME_TYPE_SUITE_Family</th>\n",
       "      <th>NAME_TYPE_SUITE_Group of people</th>\n",
       "      <th>NAME_TYPE_SUITE_Other_A</th>\n",
       "      <th>NAME_TYPE_SUITE_Other_B</th>\n",
       "      <th>NAME_TYPE_SUITE_Spouse, partner</th>\n",
       "      <th>NAME_TYPE_SUITE_Unaccompanied</th>\n",
       "      <th>...</th>\n",
       "      <th>AMT_REQ_CREDIT_BUREAU_HOUR</th>\n",
       "      <th>AMT_REQ_CREDIT_BUREAU_DAY</th>\n",
       "      <th>AMT_REQ_CREDIT_BUREAU_WEEK</th>\n",
       "      <th>AMT_REQ_CREDIT_BUREAU_MON</th>\n",
       "      <th>AMT_REQ_CREDIT_BUREAU_QRT</th>\n",
       "      <th>AMT_REQ_CREDIT_BUREAU_YEAR</th>\n",
       "      <th>NAME_CONTRACT_TYPE</th>\n",
       "      <th>FLAG_OWN_CAR</th>\n",
       "      <th>FLAG_OWN_REALTY</th>\n",
       "      <th>EMERGENCYSTATE_MODE</th>\n",
       "    </tr>\n",
       "  </thead>\n",
       "  <tbody>\n",
       "    <tr>\n",
       "      <th>154638</th>\n",
       "      <td>1.0</td>\n",
       "      <td>0.0</td>\n",
       "      <td>0.0</td>\n",
       "      <td>0.0</td>\n",
       "      <td>0.0</td>\n",
       "      <td>0.0</td>\n",
       "      <td>0.0</td>\n",
       "      <td>0.0</td>\n",
       "      <td>0.0</td>\n",
       "      <td>1.0</td>\n",
       "      <td>...</td>\n",
       "      <td>-0.071827</td>\n",
       "      <td>-0.057564</td>\n",
       "      <td>-0.15498</td>\n",
       "      <td>0.895706</td>\n",
       "      <td>-0.398139</td>\n",
       "      <td>0.692307</td>\n",
       "      <td>0.0</td>\n",
       "      <td>0.0</td>\n",
       "      <td>1.0</td>\n",
       "      <td>0.0</td>\n",
       "    </tr>\n",
       "    <tr>\n",
       "      <th>167190</th>\n",
       "      <td>1.0</td>\n",
       "      <td>0.0</td>\n",
       "      <td>0.0</td>\n",
       "      <td>0.0</td>\n",
       "      <td>0.0</td>\n",
       "      <td>0.0</td>\n",
       "      <td>0.0</td>\n",
       "      <td>0.0</td>\n",
       "      <td>0.0</td>\n",
       "      <td>1.0</td>\n",
       "      <td>...</td>\n",
       "      <td>-0.071827</td>\n",
       "      <td>-0.057564</td>\n",
       "      <td>-0.15498</td>\n",
       "      <td>-0.269938</td>\n",
       "      <td>-0.398139</td>\n",
       "      <td>-0.440782</td>\n",
       "      <td>0.0</td>\n",
       "      <td>0.0</td>\n",
       "      <td>1.0</td>\n",
       "      <td>0.0</td>\n",
       "    </tr>\n",
       "    <tr>\n",
       "      <th>121322</th>\n",
       "      <td>1.0</td>\n",
       "      <td>0.0</td>\n",
       "      <td>0.0</td>\n",
       "      <td>0.0</td>\n",
       "      <td>0.0</td>\n",
       "      <td>0.0</td>\n",
       "      <td>0.0</td>\n",
       "      <td>0.0</td>\n",
       "      <td>0.0</td>\n",
       "      <td>1.0</td>\n",
       "      <td>...</td>\n",
       "      <td>-0.071827</td>\n",
       "      <td>-0.057564</td>\n",
       "      <td>-0.15498</td>\n",
       "      <td>-0.269938</td>\n",
       "      <td>-0.398139</td>\n",
       "      <td>0.125763</td>\n",
       "      <td>0.0</td>\n",
       "      <td>0.0</td>\n",
       "      <td>1.0</td>\n",
       "      <td>0.0</td>\n",
       "    </tr>\n",
       "    <tr>\n",
       "      <th>67133</th>\n",
       "      <td>0.0</td>\n",
       "      <td>1.0</td>\n",
       "      <td>0.0</td>\n",
       "      <td>0.0</td>\n",
       "      <td>0.0</td>\n",
       "      <td>0.0</td>\n",
       "      <td>0.0</td>\n",
       "      <td>0.0</td>\n",
       "      <td>0.0</td>\n",
       "      <td>1.0</td>\n",
       "      <td>...</td>\n",
       "      <td>-0.071827</td>\n",
       "      <td>-0.057564</td>\n",
       "      <td>-0.15498</td>\n",
       "      <td>-0.269938</td>\n",
       "      <td>-0.398139</td>\n",
       "      <td>-1.007326</td>\n",
       "      <td>0.0</td>\n",
       "      <td>0.0</td>\n",
       "      <td>0.0</td>\n",
       "      <td>0.0</td>\n",
       "    </tr>\n",
       "    <tr>\n",
       "      <th>150061</th>\n",
       "      <td>0.0</td>\n",
       "      <td>1.0</td>\n",
       "      <td>0.0</td>\n",
       "      <td>0.0</td>\n",
       "      <td>0.0</td>\n",
       "      <td>0.0</td>\n",
       "      <td>0.0</td>\n",
       "      <td>0.0</td>\n",
       "      <td>0.0</td>\n",
       "      <td>1.0</td>\n",
       "      <td>...</td>\n",
       "      <td>-0.071827</td>\n",
       "      <td>-0.057564</td>\n",
       "      <td>-0.15498</td>\n",
       "      <td>-0.269938</td>\n",
       "      <td>-0.398139</td>\n",
       "      <td>0.692307</td>\n",
       "      <td>0.0</td>\n",
       "      <td>1.0</td>\n",
       "      <td>1.0</td>\n",
       "      <td>0.0</td>\n",
       "    </tr>\n",
       "  </tbody>\n",
       "</table>\n",
       "<p>5 rows × 207 columns</p>\n",
       "</div>"
      ],
      "text/plain": [
       "        CODE_GENDER_F  CODE_GENDER_M  CODE_GENDER_XNA  \\\n",
       "154638            1.0            0.0              0.0   \n",
       "167190            1.0            0.0              0.0   \n",
       "121322            1.0            0.0              0.0   \n",
       "67133             0.0            1.0              0.0   \n",
       "150061            0.0            1.0              0.0   \n",
       "\n",
       "        NAME_TYPE_SUITE_Children  NAME_TYPE_SUITE_Family  \\\n",
       "154638                       0.0                     0.0   \n",
       "167190                       0.0                     0.0   \n",
       "121322                       0.0                     0.0   \n",
       "67133                        0.0                     0.0   \n",
       "150061                       0.0                     0.0   \n",
       "\n",
       "        NAME_TYPE_SUITE_Group of people  NAME_TYPE_SUITE_Other_A  \\\n",
       "154638                              0.0                      0.0   \n",
       "167190                              0.0                      0.0   \n",
       "121322                              0.0                      0.0   \n",
       "67133                               0.0                      0.0   \n",
       "150061                              0.0                      0.0   \n",
       "\n",
       "        NAME_TYPE_SUITE_Other_B  NAME_TYPE_SUITE_Spouse, partner  \\\n",
       "154638                      0.0                              0.0   \n",
       "167190                      0.0                              0.0   \n",
       "121322                      0.0                              0.0   \n",
       "67133                       0.0                              0.0   \n",
       "150061                      0.0                              0.0   \n",
       "\n",
       "        NAME_TYPE_SUITE_Unaccompanied  ...  AMT_REQ_CREDIT_BUREAU_HOUR  \\\n",
       "154638                            1.0  ...                   -0.071827   \n",
       "167190                            1.0  ...                   -0.071827   \n",
       "121322                            1.0  ...                   -0.071827   \n",
       "67133                             1.0  ...                   -0.071827   \n",
       "150061                            1.0  ...                   -0.071827   \n",
       "\n",
       "        AMT_REQ_CREDIT_BUREAU_DAY  AMT_REQ_CREDIT_BUREAU_WEEK  \\\n",
       "154638                  -0.057564                    -0.15498   \n",
       "167190                  -0.057564                    -0.15498   \n",
       "121322                  -0.057564                    -0.15498   \n",
       "67133                   -0.057564                    -0.15498   \n",
       "150061                  -0.057564                    -0.15498   \n",
       "\n",
       "        AMT_REQ_CREDIT_BUREAU_MON  AMT_REQ_CREDIT_BUREAU_QRT  \\\n",
       "154638                   0.895706                  -0.398139   \n",
       "167190                  -0.269938                  -0.398139   \n",
       "121322                  -0.269938                  -0.398139   \n",
       "67133                   -0.269938                  -0.398139   \n",
       "150061                  -0.269938                  -0.398139   \n",
       "\n",
       "        AMT_REQ_CREDIT_BUREAU_YEAR  NAME_CONTRACT_TYPE  FLAG_OWN_CAR  \\\n",
       "154638                    0.692307                 0.0           0.0   \n",
       "167190                   -0.440782                 0.0           0.0   \n",
       "121322                    0.125763                 0.0           0.0   \n",
       "67133                    -1.007326                 0.0           0.0   \n",
       "150061                    0.692307                 0.0           1.0   \n",
       "\n",
       "        FLAG_OWN_REALTY  EMERGENCYSTATE_MODE  \n",
       "154638              1.0                  0.0  \n",
       "167190              1.0                  0.0  \n",
       "121322              1.0                  0.0  \n",
       "67133               0.0                  0.0  \n",
       "150061              1.0                  0.0  \n",
       "\n",
       "[5 rows x 207 columns]"
      ]
     },
     "execution_count": 174,
     "metadata": {},
     "output_type": "execute_result"
    }
   ],
   "source": [
    "ct = ColumnTransformer([\n",
    "    ('ohe', OneHotEncoder(handle_unknown=\"ignore\", sparse_output=False), cat_features),\n",
    "    ('scaler', StandardScaler(), numeric_features),\n",
    "    ('binarizer', OrdinalEncoder(), binary_features)\n",
    "], verbose_feature_names_out=False)\n",
    "ct.set_output(transform='pandas')\n",
    "\n",
    "\n",
    "X_train_pr = ct.fit_transform(X_train)\n",
    "X_test_pr =  ct.transform(X_test)\n",
    "\n",
    "X_train_pr.head()"
   ]
  },
  {
   "cell_type": "code",
   "execution_count": 175,
   "metadata": {
    "id": "pTU0QgSKlw4d",
    "outputId": "aafafb26-b88c-4c22-f5e3-9d7b57bb0508"
   },
   "outputs": [
    {
     "data": {
      "text/plain": [
       "((150679, 207), (150679, 120))"
      ]
     },
     "execution_count": 175,
     "metadata": {},
     "output_type": "execute_result"
    }
   ],
   "source": [
    "X_train_pr.shape, X_train.shape"
   ]
  },
  {
   "cell_type": "code",
   "execution_count": 176,
   "metadata": {
    "id": "XNSJbIhnlw4d",
    "outputId": "acd5890a-45cc-482f-dee8-13a5dee59838"
   },
   "outputs": [
    {
     "name": "stdout",
     "output_type": "stream",
     "text": [
      "Catboost    :\t\tpr-auc: 0.2359\tfit_time: 14.1 s\n",
      "Logreg      :\t\tpr-auc: 0.2150\tfit_time: 3.29 s\n"
     ]
    }
   ],
   "source": [
    "cat_clf = CatBoostClassifier(random_state=73, verbose=False)\n",
    "logreg_clf = linear_model.LogisticRegression(C=100, max_iter=1000, random_state=73)\n",
    "\n",
    "\n",
    "fr = print_results(\n",
    "    fit_results=score_model(cat_clf, X_train_pr, X_test_pr, y_train, y_test, print_res=False),\n",
    "    model_name='Catboost',\n",
    ")\n",
    "cat_score_base = fr['pr-auc']\n",
    "\n",
    "\n",
    "fr = print_results(\n",
    "    fit_results=score_model(logreg_clf, X_train_pr, X_test_pr, y_train, y_test, print_res=False),\n",
    "    model_name='Logreg',\n",
    ")\n",
    "logreg_score_base = fr['pr-auc']"
   ]
  },
  {
   "cell_type": "markdown",
   "metadata": {
    "id": "K4Cj1znalw4e"
   },
   "source": [
    "**Задание 9 (1 балл)**\n",
    "\n",
    "\n",
    "Допустим, мы хотим оставить только 50 лучших признаков. Попробуем сделать это несколькими способами. Начнем со способов, заложенных в особенности моделей"
   ]
  },
  {
   "cell_type": "code",
   "execution_count": 168,
   "metadata": {
    "id": "4jbVop3_lw4e"
   },
   "outputs": [],
   "source": [
    "feat_cnt = 50"
   ]
  },
  {
   "cell_type": "markdown",
   "metadata": {
    "id": "kxH5oL05lw4e"
   },
   "source": [
    "**Отбор по feature importance (catboost) (0.5 баллов)**"
   ]
  },
  {
   "cell_type": "markdown",
   "metadata": {
    "id": "66r4i324lw4e"
   },
   "source": [
    "Для бустингов над деревями определим важность признака следующим образом: признак тем важнее, чем сильнее влияет его изменение на изменение предсказания\n",
    "\n",
    "Формально важность признака $f_i(x)$ определяется следующим соотношением:\n",
    "$$\n",
    "\\text{Importance}_i = \\sum_{\\text{tree} \\in \\text {trees}} \\; \\sum_{\\text{leaf}_1, \\text{leaf}_2 \\in LP_i(\\text{tree})} c_1 (v_1 - \\text{avr})^2 + c_2 (v_2 - \\text{avr})^2\n",
    "$$\n",
    "\n",
    "$LP_i(\\text{tree})$ --- пары листьев, пути до которых проходят через \"разделение\" по признаку $f_i(x)$. Причем $\\text{leaf}_1$ --- лист, в который мы попадаем по условию $f_i(x) < \\text{th}$\n",
    "\n",
    "Где для каждого листа величины $c_1, c_2, v_1, v_2, \\text{avr}$ определяются следующим образом:\n",
    "* c_1, c_2 --- вес каждого листа(кол-во принадлежащих листу объектов, если вес не задан явно)\n",
    "* v_1, v_2 --- значение в каждом листе\n",
    "* $\\text{avr} = \\frac{c_1 v_1 + c_2 v_2}{c_1 + c_2}$\n",
    "\n",
    "Таким образом, признак тем важнее, чем сильнее отличаются предсказания в листьях после ветвления по данному признаку"
   ]
  },
  {
   "cell_type": "markdown",
   "metadata": {
    "id": "BTJcNCPllw4e"
   },
   "source": [
    "Получите важности признаков для обученной модели catboost. Разрешается использовать метод $\\texttt{.get\\_feature\\_importance}$. Постройте распределение важности признаков, отберите 50 наиболее важных признаков, обучите Catboost и LogReg на отобранных признаках. (?)Изменилось ли качество и время работы? Какие ещё выводы можно сделать?"
   ]
  },
  {
   "cell_type": "code",
   "execution_count": 178,
   "metadata": {
    "id": "JMzmwcDYlw4e"
   },
   "outputs": [
    {
     "data": {
      "image/png": "[encoded data removed]",
      "text/plain": [
       "<Figure size 1000x500 with 1 Axes>"
      ]
     },
     "metadata": {},
     "output_type": "display_data"
    }
   ],
   "source": [
    "### your code here ╰( ͡° ͜ʖ ͡° )つ──☆*:・ﾟ\n",
    "cat_importances = cat_clf.get_feature_importance()\n",
    "feat_importances = pd.DataFrame({\n",
    "    'feature': X_train_pr.columns,\n",
    "    'importance': cat_importances\n",
    "}).sort_values('importance', ascending=False)\n",
    "\n",
    "plt.figure(figsize=(10, 5))\n",
    "plt.hist(feat_importances['importance'], bins=50)\n",
    "plt.title('Распределение важности признаков')\n",
    "plt.xlabel('Важность')\n",
    "plt.ylabel('Количество')\n",
    "plt.show()"
   ]
  },
  {
   "cell_type": "code",
   "execution_count": 182,
   "metadata": {
    "id": "hPNqrrHBlw4e"
   },
   "outputs": [
    {
     "name": "stdout",
     "output_type": "stream",
     "text": [
      "X_train_imp_cat.shape=(150679, 50)\t\tX_test_imp_cat.shape=(64578, 50)\n",
      "\n",
      "\n",
      "Catboost    :\t\tpr-auc: 0.2332\tdeviation: -0.0027\tfit_time: 10.4 s\n",
      "Logreg      :\t\tpr-auc: 0.2146\tdeviation: -0.0004\tfit_time: 0.856 s\n"
     ]
    }
   ],
   "source": [
    "important_features = feat_importances['feature'].iloc[:feat_cnt].values\n",
    "\n",
    "X_train_imp_cat = X_train_pr[important_features]\n",
    "X_test_imp_cat  = X_test_pr[important_features]\n",
    "print(f\"{X_train_imp_cat.shape=}\\t\\t{X_test_imp_cat.shape=}\\n\\n\")\n",
    "\n",
    "cat_clf_fs_cat = CatBoostClassifier(random_state=73, verbose=False)\n",
    "logreg_clf_fs_cat = linear_model.LogisticRegression(C=100, max_iter=1000, random_state=73)\n",
    "\n",
    "fr = print_results(\n",
    "    fit_results=score_model(cat_clf_fs_cat, X_train_imp_cat, X_test_imp_cat, y_train, y_test, print_res=False),\n",
    "    model_name='Catboost',\n",
    "    base_score=cat_score_base,\n",
    ")\n",
    "\n",
    "fr = print_results(\n",
    "    fit_results=score_model(logreg_clf_fs_cat, X_train_imp_cat, X_test_imp_cat, y_train, y_test, print_res=False),\n",
    "    model_name='Logreg',\n",
    "    base_score=logreg_score_base,\n",
    ")"
   ]
  },
  {
   "cell_type": "markdown",
   "metadata": {},
   "source": [
    "**ОТВЕТ**:\n",
    "1) **CatBoost**: качество снизилось незначительно с 0.2359 до 0.2332 (примерно на 1%), а время уменьшилось существенно с 14.1с до 10.4с (примерно на 26%)\n",
    "\n",
    "\n",
    "2) **LogisticRegression**: качество снизилось незначительно с 0.2150 до 0.2146 (примерно на 0.2%), а время уменьшилось существенно с 3.29с до 0.856с (примерно на 74%)\n",
    "\n",
    "Отбор признаков позволил существенно уменьшить время обучения обеих моделей за счет сокращения размерности данных, при этом не теряя сильно в качестве. То есть выбранные признаки действительно являются наиболее информативными, так как позволяют достичь почти такого же качества при использовании значительно меньшего числа признаков (при этом LogisticRegression показала большую устойчивость к сокращению признаков)\n",
    "\n",
    "По распределению видно, что небольшое количество признаков являются наиболее важными - их выделение даст лучший результат\n",
    "   "
   ]
  },
  {
   "cell_type": "markdown",
   "metadata": {
    "id": "XmAldjOdlw4e"
   },
   "source": [
    "**Отбор по модулям весов (LogReg) (0.5 баллов)**"
   ]
  },
  {
   "cell_type": "markdown",
   "metadata": {
    "id": "vjovbdCGlw4e"
   },
   "source": [
    "Логистическая регрессия имеет следующий вид:\n",
    "$$\n",
    "\\mathbb{P}(\\hat y = 1) = \\sigma \\left( \\sum_{i=1}^{d} w_i f_i(x) \\right)\n",
    "$$\n",
    "\n",
    "В силу монотонности $\\sigma$ и линейности функции признаки $f_i(x)$ с большими значениями $w_i$ будут вносить основной вклад в предсказание. Поэтому мы будем считать, что для линейной модели признак тем важнее, чем больше его вес.\n",
    "\n",
    "(?)Всегда ли это будет выполнено? Если нет, то почему?"
   ]
  },
  {
   "cell_type": "markdown",
   "metadata": {},
   "source": [
    "**ОТВЕТ**:\n",
    "Нет, это утверждение не всегда будет верным. Вот причины, почему это выполняется не всегда:\n",
    "1) Масштаб признаков. Признаки с большим масштабом будут вносить больший вклад - без нормализаципризнаков.\n",
    "2) Корреляция признаков. Два признака могут быть наиболее значимыми в совокупности, но менее значимы по отдельности (и имеют по отдельности малые веса)\n",
    "3) Разреженность признаков. Важный признак может иметь маленькие значения, и  даже при большом весе вносить маленький вклад"
   ]
  },
  {
   "cell_type": "markdown",
   "metadata": {
    "id": "AzSDsOpQlw4e"
   },
   "source": [
    "(?)Постройте распределение модулей весов. Отберите $50$ наиболее важных признаков по обученной ранее модели, обучите Catboost и LogReg на отобранных признаках. Изменилось ли качество и время работы? Какие ещё выводы можно сделать?"
   ]
  },
  {
   "cell_type": "code",
   "execution_count": 188,
   "metadata": {
    "id": "QsoWRU9olw4f"
   },
   "outputs": [
    {
     "data": {
      "image/png": "[encoded data removed]",
      "text/plain": [
       "<Figure size 1000x500 with 1 Axes>"
      ]
     },
     "metadata": {},
     "output_type": "display_data"
    }
   ],
   "source": [
    "### your code here ╰( ͡° ͜ʖ ͡° )つ──☆*:・ﾟ\n",
    "logreg_importances = np.abs(logreg_clf.coef_[0])\n",
    "feat_importances = pd.DataFrame({\n",
    "    'feature': X_train_pr.columns,\n",
    "    'importance': logreg_importances\n",
    "}).sort_values('importance', ascending=False)\n",
    "\n",
    "plt.figure(figsize=(10, 5))\n",
    "plt.hist(feat_importances['importance'], bins=50)\n",
    "plt.title('Распределение важности признаков')\n",
    "plt.xlabel('Вес')\n",
    "plt.ylabel('Количество')\n",
    "plt.show()"
   ]
  },
  {
   "cell_type": "code",
   "execution_count": 186,
   "metadata": {
    "id": "Xt9eTF1Llw4f",
    "scrolled": true
   },
   "outputs": [
    {
     "name": "stdout",
     "output_type": "stream",
     "text": [
      "X_train_imp_logreg.shape=(150679, 50)\t\tX_test_imp_logreg.shape=(64578, 50)\n",
      "Catboost    :\t\tpr-auc: 0.2084\tdeviation: -0.0275\tfit_time: 8.88 s\n",
      "Logreg      :\t\tpr-auc: 0.2060\tdeviation: -0.0090\tfit_time: 1.2 s\n"
     ]
    }
   ],
   "source": [
    "important_features = feat_importances['feature'].iloc[:50].values\n",
    "\n",
    "X_train_imp_logreg = X_train_pr[important_features]\n",
    "X_test_imp_logreg = X_test_pr[important_features]\n",
    "print(f\"{X_train_imp_logreg.shape=}\\t\\t{X_test_imp_logreg.shape=}\")\n",
    "\n",
    "cat_clf_fs_logreg = CatBoostClassifier(random_state=73, verbose=False)\n",
    "logreg_clf_fs_logreg = linear_model.LogisticRegression(C=100, max_iter=1000, random_state=73)\n",
    "\n",
    "fr = print_results(\n",
    "    fit_results=score_model(cat_clf_fs_logreg, X_train_imp_logreg, X_test_imp_logreg, y_train, y_test, print_res=False),\n",
    "    model_name='Catboost',\n",
    "    base_score=cat_score_base,\n",
    ")\n",
    "\n",
    "fr = print_results(\n",
    "    fit_results=score_model(logreg_clf_fs_logreg, X_train_imp_logreg, X_test_imp_logreg, y_train, y_test, print_res=False),\n",
    "    model_name='Logreg',\n",
    "    base_score=logreg_score_base,\n",
    ")"
   ]
  },
  {
   "cell_type": "markdown",
   "metadata": {},
   "source": [
    "**ОТВЕТ**:\n",
    "1) **CatBoost**: качество снизилось с 0.2359 до 0.2084 (примерно на 13%), а время уменьшилось существенно с 14.1 до 8.88 (примерно на 38%)\n",
    "\n",
    "\n",
    "2) **LogisticRegression**: качество снизилось с 0.2150 до 0.2060  (примерно на 5%), а время уменьшилось существенно с 3.29с до 1.2с (примерно на 64%)\n",
    "\n",
    "Такой отбор признаков показал более плохой результат, чем при отборе по feature importance (catboost), это связано с указанными выше причинами. Время стало меньше (так как меньше признаков обрабатываем)"
   ]
  },
  {
   "cell_type": "markdown",
   "metadata": {
    "id": "afHx3spdlw4f"
   },
   "source": [
    "(?)**Вопрос**: Мы рассмотрели встроенные методы для линейных моделей и бустингов над деревьями. Отличается ли изменение качества catboost при отборе через \"его собственный\" feature importance от качества catboost при отборе через модули весов линейной модели? Есть ли отличия изменения качества для LogReg?"
   ]
  },
  {
   "cell_type": "markdown",
   "metadata": {
    "id": "CIVgUDpKlw4f"
   },
   "source": [
    "**Ответ**:\n",
    "1) Отбор признаков по важности (feature importance):\n",
    " * Catboost: 0.2332 (-0.0027 отклонение от базового)\n",
    " * Logreg: 0.2146 (-0.0004 отклонение от базового)\n",
    "\n",
    "\n",
    "2) Отбор признаков по модулям весов линейной модели:\n",
    "\n",
    "* Catboost: 0.2084 (-0.0275 отклонение от базового)\n",
    "* Logreg: 0.2060 (-0.0090 отклонение от базового)\n",
    "\n",
    "Для Catboost отбор признаков по его собственной важности (0.2332) дает существенно лучший результат, чем отбор по модулям весов линейной модели (0.2084). Это логично, так как важность признаков, вычисляемая Catboost, учитывает нелинейные зависимости и взаимодействия признаков, (их градиентный бустинг способен моделировать), а линейная модель оценивает только линейный вклад признаков.\n",
    "\n",
    "Для логистической регрессии отбор признаков по модулям её собственных весов (0.2060) и по важности признаков Catboost (0.2146) дает примерно более схожие результаты. Это объясняется тем, что для логистической регрессии отбор по модулям её весов соответствует её структуре(а важность признаков может дать модели завиисмости, которые линейная модель обработать не может).\n",
    "\n",
    "Природа такого разборса на гистрорамме объясняется перечисленными выше причинами"
   ]
  },
  {
   "cell_type": "markdown",
   "metadata": {
    "id": "bNAzmHt4lw4f"
   },
   "source": [
    "**Задание 10: Методы фильтрации (0.75 баллов)**"
   ]
  },
  {
   "cell_type": "markdown",
   "metadata": {
    "id": "_ZQ3sJ02lw4f"
   },
   "source": [
    "Давайте отбирать признаки умнее, а именно через подсчёт некоторой функции для каждого признака. На основании значений этой функции будем оставлять наиболее важные признаки. Методы этого семейства называют фильтрующими или  filter methods.\n",
    "\n",
    "В качестве такой функции будем считать t-статистику:\n",
    "\n",
    "$$t(x) = \\frac{|\\mu_+ - \\mu_-|}{\\sqrt{\\frac{n_+ \\sigma^2_+ + n_- \\sigma^2_-}{n_+ + n_-}}},$$\n",
    "\n",
    "где $\\mu$, $\\sigma$, $n$ соответственно среднее, среднеквадратичное отклонение и количество объектов каждого из классов.\n",
    "\n",
    "Оставьте 50 признаков с наибольшим значением и замерьте качество. Не забудьте замерить скорость отбора признаков в этом случаев."
   ]
  },
  {
   "cell_type": "code",
   "execution_count": 191,
   "metadata": {
    "id": "CBeAxM5Slw4f"
   },
   "outputs": [],
   "source": [
    "def t_stat_values_calculation(data: pd.DataFrame, target) -> np.ndarray:\n",
    "    ans = []\n",
    "    \n",
    "    for col in data.columns:\n",
    "        pos_mean = data[col][target == 1].mean()\n",
    "        neg_mean = data[col][target == 0].mean()\n",
    "        \n",
    "        pos_var = data[col][target == 1].var()\n",
    "        neg_var = data[col][target == 0].var()\n",
    "        pos_count = np.array([target == 1]).sum()\n",
    "        neg_count = np.array([target == 0]).sum()\n",
    "        sqr = np.sqrt((pos_count * pos_var + neg_count * neg_var) / (pos_count + neg_count))\n",
    "        \n",
    "        if sqr != 0:\n",
    "            temp = np.abs(pos_mean - neg_mean) / sqr\n",
    "        else:\n",
    "            temp = 0\n",
    "        ans.append(temp)\n",
    "    \n",
    "    return np.array(ans)"
   ]
  },
  {
   "cell_type": "code",
   "execution_count": 201,
   "metadata": {
    "id": "CaZ2tvkElw4f"
   },
   "outputs": [
    {
     "name": "stdout",
     "output_type": "stream",
     "text": [
      "0.5841169357299805\n"
     ]
    }
   ],
   "source": [
    "time_st = time.time()\n",
    "t_stat_values = t_stat_values_calculation(X_train_pr, y_train)\n",
    "print(time.time() - time_st)"
   ]
  },
  {
   "cell_type": "code",
   "execution_count": 203,
   "metadata": {
    "id": "fgEdloVMlw4f"
   },
   "outputs": [],
   "source": [
    "### your code here ╰( ͡° ͜ʖ ͡° )つ──☆*:・ﾟ\n",
    "importances_df = pd.DataFrame({\n",
    "    'feature': X_train_pr.columns,\n",
    "    'importance': t_stat_values\n",
    "})\n",
    "importances_df = importances_df.sort_values('importance', ascending=False)"
   ]
  },
  {
   "cell_type": "code",
   "execution_count": 204,
   "metadata": {
    "id": "q4WPWNf3lw4g"
   },
   "outputs": [
    {
     "name": "stdout",
     "output_type": "stream",
     "text": [
      "X_train_imp_ts.shape=(150679, 50)\n",
      "X_test_imp_ts.shape=(64578, 50)\n",
      "Catboost    :\t\tpr-auc: 0.2278\tdeviation: -0.0080\tfit_time: 10.4 s\n",
      "Logreg      :\t\tpr-auc: 0.2113\tdeviation: -0.0038\tfit_time: 0.816 s\n"
     ]
    }
   ],
   "source": [
    "important_features = importances_df['feature'].iloc[:50].values\n",
    "\n",
    "X_train_imp_ts = X_train_pr[important_features]\n",
    "X_test_imp_ts  = X_test_pr[important_features]\n",
    "\n",
    "print(f\"{X_train_imp_ts.shape=}\\n{X_test_imp_ts.shape=}\")\n",
    "\n",
    "\n",
    "cat_clf_fs_ts = CatBoostClassifier(random_state=73, verbose=False)\n",
    "logreg_clf_fs_ts = linear_model.LogisticRegression(C=100, max_iter=1000, random_state=73)\n",
    "\n",
    "fr = print_results(\n",
    "    fit_results=score_model(cat_clf_fs_ts, X_train_imp_ts, X_test_imp_ts, y_train, y_test, print_res=False),\n",
    "    model_name='Catboost',\n",
    "    base_score=cat_score_base,\n",
    ")\n",
    "\n",
    "fr = print_results(\n",
    "    fit_results=score_model(logreg_clf_fs_ts, X_train_imp_ts, X_test_imp_ts, y_train, y_test, print_res=False),\n",
    "    model_name='Logreg',\n",
    "    base_score=logreg_score_base,\n",
    ")"
   ]
  },
  {
   "cell_type": "markdown",
   "metadata": {},
   "source": [
    "**ОТВЕТ**:\n",
    "1) Для CatBoost отбор по t-статистике показал pr-auc 0.2278 (-0.0080 по сравнению с базовой), лучше чем отбор по весам (0.2084, -0.0275), но хуже чем по важности (0.2332, -0.0027).\n",
    "2) Для логистической регрессии pr-auc с отбором по t-статистике 0.2113 (-0.0038), лучше чем по весам (0.2060, -0.0090) и важности (0.2146, -0.0004).\n",
    "   \n",
    "То есть t-статистика сохраняет больше значимых признаков, чем отбор по весам, но меньше чем по важности. При этом время для логистической регрессии при отборе по t-статистика наименьшее, а CatBoost отбор по важности и по t-статистика показал одинаково наименьшее время.\n",
    "\n",
    "Отбор признаков быстрый (около 0.5 секунд), что хорошо. Поэтому использование t-статистика - оптимальный вариант, так как занимает мало времени и маол памяти (только 50 признаков), при этом качество почти такое же"
   ]
  },
  {
   "cell_type": "markdown",
   "metadata": {
    "id": "Bh2gXKSOlw4g"
   },
   "source": [
    "## Методы-обёртки (Бонус)"
   ]
  },
  {
   "cell_type": "markdown",
   "metadata": {
    "id": "0YRP0QNZlw4g"
   },
   "source": [
    "__Задание 11 (бонус).__\n",
    "\n",
    "__(1 балл)__\n",
    "\n",
    "Заключительный из рассматриваемых нами методов работает следующим образом: мы исключаем по очереди один из признаков и смотрим, как это влияет на качество. Удаляем признаки таким жадным способом, пока не достигнем некоторого критерия (количество признаков или ухудшением качества).\n",
    "\n",
    "Заметим, что нельзя оценивать качество по тестовой выборке, иначе мы можем переобучиться, как, например, при настройке гиперпараметров. Разделите выборку на 2 части, на одной из них обучайте модель без одного из признаков,  на второй части оценивайте качество. Исходную тестовую выборку стоит использовать только на финальной оценке качества.\n",
    "\n",
    "Сделайте одну итерацию и прикиньте, сколько времени займёт такой отбор признаков. Кажется, что чересчур. Давайте возьмём маленький сэмпл данных (например, в 10 тысяч объектов), что сильно уменьшит время итерации. Теперь это долго, но уже приемлимо.\n",
    "\n",
    "Если это всё ещё долго для вашего комьютера, можете попробовать брать не по одному признаку, а сразу по пять (и удалять сразу тоже по 5). Для этого перед каждой итерацией удаления делите заново все признаки на группы по 5 штук.\n",
    "\n",
    "Снова оставьте только 50 признаков и оцените качество на тестовой выборке. Сколько времени занял такой отбор признаков?"
   ]
  },
  {
   "cell_type": "code",
   "execution_count": null,
   "metadata": {
    "id": "UEYrRD0_lw4g"
   },
   "outputs": [],
   "source": [
    "import tqdm\n",
    "import random\n",
    "\n",
    "\n",
    "class FeatureEliminator:\n",
    "    def __init__(self, model, data: pd.DataFrame, target):\n",
    "        pass\n",
    "\n",
    "    def feature_elimination(self, min_features: int = 50, log_freq: int = 5) -> np.ndarray:\n",
    "        \"\"\"\n",
    "        :param min_features: минимальное число отобранных признаков\n",
    "        :param log_freq: частота логирования\n",
    "        :return: массив индексов отобранных признаков\n",
    "        \"\"\"\n",
    "\n",
    "        pass"
   ]
  },
  {
   "cell_type": "code",
   "execution_count": null,
   "metadata": {
    "id": "Nt01r28Ylw4g"
   },
   "outputs": [],
   "source": [
    "### your code here ╰( ͡° ͜ʖ ͡° )つ──☆*:・ﾟ"
   ]
  },
  {
   "cell_type": "markdown",
   "metadata": {
    "id": "hsAaV07Qlw4g"
   },
   "source": [
    "**Задание 13 (0.75 баллов): Сравнение методов**"
   ]
  },
  {
   "cell_type": "markdown",
   "metadata": {
    "id": "ZU2SHBAZlw4g"
   },
   "source": [
    "Какие признаки оказались наиболее важными сразу для всех методов отбора? Какая мощность попарных пересечений множеств отобранных признаков?"
   ]
  },
  {
   "cell_type": "code",
   "execution_count": null,
   "metadata": {
    "id": "3mRfgHpulw4g"
   },
   "outputs": [],
   "source": [
    "### your code here ╰( ͡° ͜ʖ ͡° )つ──☆*:・ﾟ"
   ]
  },
  {
   "cell_type": "markdown",
   "metadata": {
    "id": "y7qSk13Alw4g"
   },
   "source": [
    "**(?)Вопрос**: Влияет ли выбор стратегии оценивания важности признаков на их ранжирование? Для ответа на полученный вопрос постройте попарные распределения важностей признаков (scatter plots для всех трех пар). Посчитайте коэффициенты ранговой корреляции Спирмана"
   ]
  },
  {
   "cell_type": "code",
   "execution_count": null,
   "metadata": {
    "id": "KuVMPkBDlw4h"
   },
   "outputs": [],
   "source": [
    "import scipy.stats"
   ]
  },
  {
   "cell_type": "code",
   "execution_count": null,
   "metadata": {
    "id": "6N2fO45zlw4h"
   },
   "outputs": [],
   "source": [
    "_, ax = plt.subplots(ncols=3, figsize=(21, 6))\n",
    "\n",
    "### your code here ╰( ͡° ͜ʖ ͡° )つ──☆*:・ﾟ"
   ]
  },
  {
   "cell_type": "markdown",
   "metadata": {
    "id": "rNCNkw0xlw4h"
   },
   "source": [
    "## Shapley values (бонус)"
   ]
  },
  {
   "cell_type": "markdown",
   "metadata": {
    "id": "DtXsfXm4lw4h"
   },
   "source": [
    "**Задание 12:** Значения Шепли пришли к нам из теории игр, где они использовались для справедливого распределения выигрыша между игроками в кооперативной игре. В контексте машинного обучения мы рассматриваем признаки как \"игроков\", которые \"сотрудничают\" для создания предсказания модели.\n",
    "\n",
    "Значения Шепли вычисляются для каждого объекта $(x_j, y_j)$ независимо. Пусть $v^j(S)$ --- предсказание модели, учитывающей только признаки $f_i(x_j) \\in S$. Тогда значение Шепли для $i$-го признака вычисляется по формуле:\n",
    "$$\n",
    "\\varphi_i^j = \\sum_{S \\subset N \\setminus \\{i\\}} \\frac{C_{n}^{|S|}}{n} (v^j(S \\cup {i}) - v^j(S))\n",
    "$$\n",
    "\n",
    "Оказывается, что значения Шепли (они и только они) обладают следующими свойствами:\n",
    "1. Сумма значений Шепли всех признаков равна разнице между предсказанием модели и средним предсказанием по датасету: $\\sum_{i = 1}^N \\varphi_i^j~=~\\hat y_j~-~\\frac{\\sum_{s=1}^l \\hat y_s}{l}$\n",
    "2. Если два признака вносят одинаковый вклад при объединением с любой комбинацией других признаков, их значения Шепли будут равны\n",
    "3. Если признак не влияет на предсказание, то ему будет соответствовать нулевое значение Шепли\n",
    "4. Линейность: значения Шеппли для суммы игр равны сумме значений для игр\n",
    "\n",
    "Для нас оказываются важными свойства 1, 2, 3. Например, если два признака линейно зависимы то все предыдущие методы оценивания важности могли дать различные значения важности для данных признаков, значения Шепли для данных признаков окажутся равными (для линейных моделей и ансамблей над деревьями).\n",
    "\n",
    "Основным недостатком Shapley values является сложность вычислений: в общем случае требуется осуществить полный перебор. Однако, для некоторых классов моделей (линейные, бустинги над деревьями и некоторые другие) даныне значения считаются за полиномиальное время.\n",
    "\n",
    "Для вычисления и визуализации Shapley values используется пакет [shap](https://shap.readthedocs.io/en/latest/example_notebooks/overviews/An%20introduction%20to%20explainable%20AI%20with%20Shapley%20values.html)"
   ]
  },
  {
   "cell_type": "code",
   "execution_count": null,
   "metadata": {
    "id": "EXcbuIkDlw4h"
   },
   "outputs": [],
   "source": [
    "# для выполнения задания необходимо установить пакет shap\n",
    "import shap\n",
    "\n",
    "# shap.initjs()"
   ]
  },
  {
   "cell_type": "markdown",
   "metadata": {
    "id": "-k17LDfFlw4h"
   },
   "source": [
    "Посчитайте Shapley values для catboost'ов, обученных на:\n",
    "1. Всех признаках\n",
    "2. Признаках, отобранных по feature selection (catboost)\n",
    "3. Признаках, отобранных по модулям весов линейной модели\n",
    "4. Признаках, отобранных по t-статистике"
   ]
  },
  {
   "cell_type": "code",
   "execution_count": null,
   "metadata": {
    "id": "DS-a9e3ylw4h"
   },
   "outputs": [],
   "source": [
    "explainer = shap.TreeExplainer(cat_clf)\n",
    "shap_values = explainer(X_train_pr)\n",
    "\n",
    "explainer_cat = shap.TreeExplainer(cat_clf_fs_cat) # Explainer for catboost trained on selected by catboost features\n",
    "shap_values_cat = explainer_cat(X_train_imp_cat)\n",
    "\n",
    "explainer_logreg = shap.TreeExplainer(cat_clf_fs_logreg) # Explainer for catboost trained on selected by logreg features\n",
    "shap_values_logreg = explainer_logreg(X_train_imp_logreg)\n",
    "\n",
    "explainer_ts = shap.TreeExplainer(cat_clf_fs_ts) # Explainer for catboost trained on selected by t-stat features\n",
    "shap_values_ts = explainer_ts(X_train_imp_ts)"
   ]
  },
  {
   "cell_type": "markdown",
   "metadata": {
    "id": "Im71LlzGlw4h"
   },
   "source": [
    "### (0.5 баллов)Демонстрация всех shap values\n",
    "\n",
    "В данном задании предлагается проанализировать визуализацию распределений значений Шепли по всем объектам из датасета.\n",
    "\n",
    "Summary plot из позволяет комплексно оценить влияние признаков на предсказания модели. При анализе графика необходимо обращать внимание на четыре ключевых аспекта:\n",
    "* Чем сильнее точки признака растянуты вдоль оси, тем более значимое влияние оказывает этот признак на предсказания модели. Концентрация точек около нуля говорит о слабом влиянии признака.\n",
    "* Градиент от синего к красному показывает значения признака от низких к высоким. Если красные точки сгруппированы с одной стороны, а синие с другой – существует монотонная зависимость. Перемешанные цвета указывают на сложную нелинейную связь.\n",
    "* Области высокой плотности показывают типичное влияние признака, а отдельно стоящие точки могут указывать на выбросы или особые случаи\n",
    "* Признаки отсортированы по силе влияния сверху вниз.\n",
    "\n",
    "**Вопрос**: Какие признаки оказываются \"наиболее влиятельными\" при использовании различных стратегий отбора признаков? Отличаются ли построенные графики? Если да, то какие выводы можно сделать?"
   ]
  },
  {
   "cell_type": "code",
   "execution_count": null,
   "metadata": {
    "id": "17kBaE-Wlw4h"
   },
   "outputs": [],
   "source": [
    "# Before feature selection\n",
    "\n",
    "ax = plt.gca()\n",
    "ax.set_title('Before feature selection', fontdict={'fontsize': 16})\n",
    "\n",
    "shap.summary_plot(shap_values, plot_size=(21, 6))"
   ]
  },
  {
   "cell_type": "code",
   "execution_count": null,
   "metadata": {
    "id": "ZCVIMKKHlw4i"
   },
   "outputs": [],
   "source": [
    "# Feature selection by catboost\n",
    "\n",
    "ax = plt.gca()\n",
    "ax.set_title('Selected by Catboost', fontdict={'fontsize': 16})\n",
    "\n",
    "shap.summary_plot(shap_values_cat, plot_size=(21, 6))"
   ]
  },
  {
   "cell_type": "code",
   "execution_count": null,
   "metadata": {
    "id": "6yIUMthJlw4i"
   },
   "outputs": [],
   "source": [
    "# Feature selection by logreg\n",
    "\n",
    "ax = plt.gca()\n",
    "ax.set_title('Selected by LogReg', fontdict={'fontsize': 16})\n",
    "\n",
    "shap.summary_plot(shap_values_logreg, plot_size=(21, 6))"
   ]
  },
  {
   "cell_type": "code",
   "execution_count": null,
   "metadata": {
    "id": "epI3sdKflw4i"
   },
   "outputs": [],
   "source": [
    "# Feature selection by t-statistic\n",
    "\n",
    "ax = plt.gca()\n",
    "ax.set_title('Selected by t-statistic', fontdict={'fontsize': 16})\n",
    "\n",
    "shap.summary_plot(shap_values_ts, plot_size=(21, 6))"
   ]
  },
  {
   "cell_type": "markdown",
   "metadata": {
    "id": "uOE3pTL2lw4i"
   },
   "source": [
    "Ответ: ВАШ ОТВЕТ ТУТ"
   ]
  },
  {
   "cell_type": "markdown",
   "metadata": {
    "id": "Qhb3Y3-Alw4i"
   },
   "source": [
    "### (1 балл) Объяснение предсказания для объекта\n",
    "\n",
    "Waterfall график из библиотеки SHAP позволяет детально проанализировать, как каждый признак повлиял на конкретное предсказание модели. Этот тип визуализации показывает путь от базового значения модели к итоговому предсказанию.\n",
    "\n",
    "Самым важным в анализе является последовательное влияние признаков. Красные полосы показывают увеличение предсказанного значения, синие – уменьшение. При анализе необходимо обращать внимание на соотношение положительных и отрицательных вкладов. Часто признаки могут компенсировать влияние друг друга, и важно оценить результирующий эффект. Такая визуализация особенно полезна для объяснения конкретных решений модели заинтересованным лицам, так как наглядно показывает, какие факторы и насколько сильно повлияли на итоговый результат.\n",
    "\n",
    "**(?) Вопрос**: Отличаются ли построенные графики? Если да, то какие выводы можно сделать? Посмотрите на объяснения для нескольких объектов. В итоговой версии ноутбука можно оставить визуализацию только для одного объекта."
   ]
  },
  {
   "cell_type": "code",
   "execution_count": null,
   "metadata": {
    "id": "Yma_f4PAlw4i"
   },
   "outputs": [],
   "source": [
    "obj_idx = 1"
   ]
  },
  {
   "cell_type": "code",
   "execution_count": null,
   "metadata": {
    "id": "S9tX-x7Clw4j"
   },
   "outputs": [],
   "source": [
    "ax = plt.gca()\n",
    "ax.set_title('Before feature selection', fontdict={'fontsize': 16})\n",
    "\n",
    "shap.plots.waterfall(...)"
   ]
  },
  {
   "cell_type": "code",
   "execution_count": null,
   "metadata": {
    "id": "n4enV_dIlw4j"
   },
   "outputs": [],
   "source": [
    "ax = plt.gca()\n",
    "ax.set_title('Selected by Catboost', fontdict={'fontsize': 16})\n",
    "\n",
    "shap.plots.waterfall(...)"
   ]
  },
  {
   "cell_type": "code",
   "execution_count": null,
   "metadata": {
    "id": "DSfoUky6lw4j"
   },
   "outputs": [],
   "source": [
    "ax = plt.gca()\n",
    "ax.set_title('Selected by LogReg', fontdict={'fontsize': 16})\n",
    "\n",
    "shap.plots.waterfall(...)"
   ]
  },
  {
   "cell_type": "code",
   "execution_count": null,
   "metadata": {
    "id": "INYXQXK1lw4j"
   },
   "outputs": [],
   "source": [
    "ax = plt.gca()\n",
    "ax.set_title('Selected by t-statistic', fontdict={'fontsize': 16})\n",
    "\n",
    "shap.plots.waterfall(...)"
   ]
  },
  {
   "cell_type": "markdown",
   "metadata": {
    "id": "nGuaSFA6lw4j"
   },
   "source": [
    "Ответ: ВАШ ОТВЕТ ТУТ"
   ]
  },
  {
   "cell_type": "markdown",
   "metadata": {
    "id": "ScxTpEE_lw4j"
   },
   "source": [
    "**Бонус (0.2 балла)**\n",
    "\n",
    "Ваш любимый новогодний фильм/сериал/мультик/книга/музыка/развление/ч-т-о-у-г-о-д-н-о\n",
    "\n",
    "Всем мандаринок!&#127818;"
   ]
  },
  {
   "cell_type": "markdown",
   "metadata": {
    "id": "XBksVdcFlw4j"
   },
   "source": [
    "#### Ваш ответ здесь╰( ͡° ͜ʖ ͡° )つ──☆*:・ﾟ\n",
    "Гарри Поттер или Гринч (мультик)\n",
    "\n",
    "<img src=\"https://shakird.ru/wp-content/uploads/2021/11/91471-757x445.jpg\" style=\"width: 400px\">\n",
    "\n",
    "<img src=\"https://avatars.dzeninfra.ru/get-zen_doc/271828/pub_65932cf53c349263cd5953dc_65932d41a4afb845b1f27022/scale_1200\" style=\"width: 400px\">"
   ]
  },
  {
   "cell_type": "code",
   "execution_count": null,
   "metadata": {},
   "outputs": [],
   "source": []
  }
 ],
 "metadata": {
  "colab": {
   "provenance": []
  },
  "kernelspec": {
   "display_name": "Python 3 (ipykernel)",
   "language": "python",
   "name": "python3"
  },
  "language_info": {
   "codemirror_mode": {
    "name": "ipython",
    "version": 3
   },
   "file_extension": ".py",
   "mimetype": "text/x-python",
   "name": "python",
   "nbconvert_exporter": "python",
   "pygments_lexer": "ipython3",
   "version": "3.11.7"
  }
 },
 "nbformat": 4,
 "nbformat_minor": 4
}
